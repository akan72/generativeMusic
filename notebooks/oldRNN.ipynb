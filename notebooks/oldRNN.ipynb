{
 "cells": [
  {
   "cell_type": "code",
   "execution_count": 1,
   "metadata": {},
   "outputs": [],
   "source": [
    "#import graphviz\n",
    "import librosa\n",
    "import librosa.display\n",
    "import numpy as np\n",
    "import pickle\n",
    "import random\n",
    "import glob\n",
    "import re\n",
    "import matplotlib.pyplot as plt\n",
    "\n",
    "import tensorflow.keras\n",
    "from tensorflow.python.keras import Sequential\n",
    "from tensorflow.keras.optimizers import RMSprop, Adam, Adagrad\n",
    "from tensorflow.keras.layers import Activation, Dense, Dropout, Flatten\n",
    "from tensorflow.keras.layers import LSTM, GRU\n",
    "from tensorflow.keras.utils import plot_model\n",
    "from sklearn.preprocessing import LabelEncoder\n",
    "\n",
    "%matplotlib inline"
   ]
  },
  {
   "cell_type": "markdown",
   "metadata": {},
   "source": [
    "### TODO: Batch sizes?\n",
    "### TODO: Softmax at the end to calculate class probability\n",
    "# Citations: \n",
    "\n",
    "Reference \n",
    "\n",
    "> Keras Blog: https://blog.keras.io/a-ten-minute-introduction-to-sequence-to-sequence-learning-in-keras.html\n",
    "\n",
    "> YerevaNN: https://yerevann.github.io/2016/06/26/combining-cnn-and-rnn-for-spoken-language-identification/\n",
    "- 1x{500, 250, 100) GRU cells atop each input layer, fully connected at the end \n",
    "- Combine CNNs and RNNs \n",
    "- Do not perform subsampling \n",
    "\n",
    "> Audio Scene Classification with Deep Recurrent Neural Networks: https://arxiv.org/pdf/1703.04770\n",
    "- Use Mel Frequency Cepstral Coefficients (MFCCs) as low-level feature vectors \n",
    "\n",
    "> Deep learning using EEG spectrograms for prognosis in idiopathic rapid eye movement behavior disorder (RBD): https://www.biorxiv.org/content/biorxiv/early/2018/01/17/240267.full.pdf\n",
    " - \"Our design philosophy has been to enable the network to find local features\n",
    "first and create larger views of data with some temporal (but not frequency)\n",
    "shift invariance via max-pooling\"\n",
    "- 3 stacked RNN layers (LSTM, LSTM, GRU) with 32 hidden units with dropout\n",
    "- USE AUC to measure classification performance\n",
    "\n",
    "> Stanford cs229: http://cs229.stanford.edu/proj2016/report/IrvinChartockHollander-RecurrentNeuralNetworkswithAttentionforGenreClassification-report.pdf \n",
    "- Use MFCCs with LSTM, and LSTM with attention\n",
    "- Multinomial logistic (softmax) regression\n",
    "- Droput (possibly .2) for regularization after each LSTM \n",
    "- Categorical cross-entropy loss\n",
    "- Implement gradient clipping\n",
    "\n",
    "> GRU Cells on Music Modeling: https://arxiv.org/abs/1412.3555\n",
    "- \"A recurrent neural network (RNN) is an extension of a conventional feedforward neural network,\n",
    "which is able to handle a variable-length sequence input. The RNN handles the variable-length\n",
    "sequence by having a recurrent hidden state whose activation at each time is dependent on that of\n",
    "the previous time.\"\n",
    "- Gated units (GRU & LSTM) superior to traditional units within RNNs for this task\n",
    "\n",
    "> Batch Normalization: https://arxiv.org/pdf/1502.03167.pdf\n",
    "- Higher learning rates, less careful about initilization, acts as a regularizer and may eliminate need for using dropout "
   ]
  },
  {
   "cell_type": "code",
   "execution_count": 3,
   "metadata": {},
   "outputs": [
    {
     "ename": "NameError",
     "evalue": "name 'pickle' is not defined",
     "output_type": "error",
     "traceback": [
      "\u001b[1;31m---------------------------------------------------------------------------\u001b[0m",
      "\u001b[1;31mNameError\u001b[0m                                 Traceback (most recent call last)",
      "\u001b[1;32m<ipython-input-3-107bf4cc7bdb>\u001b[0m in \u001b[0;36m<module>\u001b[1;34m\u001b[0m\n\u001b[0;32m      1\u001b[0m \u001b[1;31m# Load in datasets and combine into one\u001b[0m\u001b[1;33m\u001b[0m\u001b[1;33m\u001b[0m\u001b[1;33m\u001b[0m\u001b[0m\n\u001b[0;32m      2\u001b[0m \u001b[1;32mwith\u001b[0m \u001b[0mopen\u001b[0m\u001b[1;33m(\u001b[0m\u001b[1;34m'../data/temp/dataset1.pkl'\u001b[0m\u001b[1;33m,\u001b[0m \u001b[1;34m'rb'\u001b[0m\u001b[1;33m)\u001b[0m \u001b[1;32mas\u001b[0m \u001b[0mf\u001b[0m\u001b[1;33m:\u001b[0m\u001b[1;33m\u001b[0m\u001b[1;33m\u001b[0m\u001b[0m\n\u001b[1;32m----> 3\u001b[1;33m     \u001b[0mdf1\u001b[0m \u001b[1;33m=\u001b[0m \u001b[0mpickle\u001b[0m\u001b[1;33m.\u001b[0m\u001b[0mload\u001b[0m\u001b[1;33m(\u001b[0m\u001b[0mf\u001b[0m\u001b[1;33m)\u001b[0m\u001b[1;33m\u001b[0m\u001b[1;33m\u001b[0m\u001b[0m\n\u001b[0m\u001b[0;32m      4\u001b[0m \u001b[1;33m\u001b[0m\u001b[0m\n\u001b[0;32m      5\u001b[0m \u001b[1;32mwith\u001b[0m \u001b[0mopen\u001b[0m\u001b[1;33m(\u001b[0m\u001b[1;34m'../data/temp/dataset2.pkl'\u001b[0m\u001b[1;33m,\u001b[0m \u001b[1;34m'rb'\u001b[0m\u001b[1;33m)\u001b[0m \u001b[1;32mas\u001b[0m \u001b[0mf\u001b[0m\u001b[1;33m:\u001b[0m\u001b[1;33m\u001b[0m\u001b[1;33m\u001b[0m\u001b[0m\n",
      "\u001b[1;31mNameError\u001b[0m: name 'pickle' is not defined"
     ]
    }
   ],
   "source": [
    "# Load in datasets and combine into one\n",
    "with open('../data/temp/dataset1.pkl', 'rb') as f:\n",
    "    df1 = pickle.load(f)\n",
    "    \n",
    "with open('../data/temp/dataset2.pkl', 'rb') as f:\n",
    "    df2 = pickle.load(f)\n",
    "\n",
    "df = df1 + df2"
   ]
  },
  {
   "cell_type": "code",
   "execution_count": 4,
   "metadata": {},
   "outputs": [
    {
     "ename": "NameError",
     "evalue": "name 'np' is not defined",
     "output_type": "error",
     "traceback": [
      "\u001b[1;31m---------------------------------------------------------------------------\u001b[0m",
      "\u001b[1;31mNameError\u001b[0m                                 Traceback (most recent call last)",
      "\u001b[1;32m<ipython-input-4-8f37102314dc>\u001b[0m in \u001b[0;36m<module>\u001b[1;34m\u001b[0m\n\u001b[0;32m      1\u001b[0m \u001b[0mfrac\u001b[0m \u001b[1;33m=\u001b[0m \u001b[1;36m0.80\u001b[0m\u001b[1;33m\u001b[0m\u001b[1;33m\u001b[0m\u001b[0m\n\u001b[1;32m----> 2\u001b[1;33m \u001b[0msplit\u001b[0m \u001b[1;33m=\u001b[0m \u001b[0mint\u001b[0m\u001b[1;33m(\u001b[0m\u001b[0mnp\u001b[0m\u001b[1;33m.\u001b[0m\u001b[0mfloor\u001b[0m\u001b[1;33m(\u001b[0m\u001b[0mlen\u001b[0m\u001b[1;33m(\u001b[0m\u001b[0mdf\u001b[0m\u001b[1;33m)\u001b[0m \u001b[1;33m*\u001b[0m \u001b[0mfrac\u001b[0m\u001b[1;33m)\u001b[0m\u001b[1;33m)\u001b[0m\u001b[1;33m\u001b[0m\u001b[1;33m\u001b[0m\u001b[0m\n\u001b[0m\u001b[0;32m      3\u001b[0m \u001b[0mrandom\u001b[0m\u001b[1;33m.\u001b[0m\u001b[0mshuffle\u001b[0m\u001b[1;33m(\u001b[0m\u001b[0mdf\u001b[0m\u001b[1;33m)\u001b[0m\u001b[1;33m\u001b[0m\u001b[1;33m\u001b[0m\u001b[0m\n\u001b[0;32m      4\u001b[0m \u001b[1;33m\u001b[0m\u001b[0m\n\u001b[0;32m      5\u001b[0m \u001b[0mtrain\u001b[0m \u001b[1;33m=\u001b[0m \u001b[0mdf\u001b[0m\u001b[1;33m[\u001b[0m\u001b[1;33m:\u001b[0m\u001b[0msplit\u001b[0m\u001b[1;33m]\u001b[0m\u001b[1;33m\u001b[0m\u001b[1;33m\u001b[0m\u001b[0m\n",
      "\u001b[1;31mNameError\u001b[0m: name 'np' is not defined"
     ]
    }
   ],
   "source": [
    "frac = 0.80\n",
    "split = int(np.floor(len(df) * frac))\n",
    "random.shuffle(df)\n",
    "\n",
    "train = df[:split]\n",
    "test = df[split:]\n",
    "\n",
    "_, X_train, y_train = zip(*train)\n",
    "_, X_test, y_test = zip(*test)\n",
    "\n",
    "# Still use 128x128 spectrograms for the RNN \n",
    "\n",
    "# Reshape for CNN input\n",
    "X_train = np.array([x.reshape( (128, 128) ) for x in X_train])\n",
    "X_test = np.array([x.reshape( (128, 128) ) for x in X_test])\n",
    "\n",
    "# One-Hot encoding for classes\n",
    "y_train = np.array(tensorflow.keras.utils.to_categorical(y_train, 4))\n",
    "y_test = np.array(tensorflow.keras.utils.to_categorical(y_test, 4))"
   ]
  },
  {
   "cell_type": "code",
   "execution_count": 1,
   "metadata": {},
   "outputs": [
    {
     "ename": "NameError",
     "evalue": "name 'librosa' is not defined",
     "output_type": "error",
     "traceback": [
      "\u001b[1;31m---------------------------------------------------------------------------\u001b[0m",
      "\u001b[1;31mNameError\u001b[0m                                 Traceback (most recent call last)",
      "\u001b[1;32m<ipython-input-1-53e79eb7d2e8>\u001b[0m in \u001b[0;36m<module>\u001b[1;34m\u001b[0m\n\u001b[1;32m----> 1\u001b[1;33m \u001b[0mlibrosa\u001b[0m\u001b[1;33m.\u001b[0m\u001b[0mdisplay\u001b[0m\u001b[1;33m.\u001b[0m\u001b[0mspecshow\u001b[0m\u001b[1;33m(\u001b[0m\u001b[0mX_train\u001b[0m\u001b[1;33m[\u001b[0m\u001b[1;36m200\u001b[0m\u001b[1;33m]\u001b[0m\u001b[1;33m)\u001b[0m\u001b[1;33m\u001b[0m\u001b[1;33m\u001b[0m\u001b[0m\n\u001b[0m\u001b[0;32m      2\u001b[0m \u001b[0mprint\u001b[0m\u001b[1;33m(\u001b[0m\u001b[0mX_train\u001b[0m\u001b[1;33m.\u001b[0m\u001b[0mshape\u001b[0m\u001b[1;33m)\u001b[0m\u001b[1;33m\u001b[0m\u001b[1;33m\u001b[0m\u001b[0m\n",
      "\u001b[1;31mNameError\u001b[0m: name 'librosa' is not defined"
     ]
    }
   ],
   "source": [
    "librosa.display.specshow(X_train[200])\n",
    "print(X_train.shape)"
   ]
  },
  {
   "cell_type": "markdown",
   "metadata": {},
   "source": [
    "Specity, compile, and evaluate model\n",
    "\n",
    "Improvements:\n",
    "\n",
    "*   Modify model architecture, loss, and optimizer to improve model\n",
    "*   Assess model performance on a variety of measure appropriate for multinomial classification problem\n",
    "*   Compare model performance with different inputs: percussive only, harmonics only, both (current)"
   ]
  },
  {
   "cell_type": "markdown",
   "metadata": {},
   "source": [
    "model = Sequential()\n",
    "input_shape=(128, 128, 1)\n",
    "\n",
    "model.add(Conv2D(24, (5, 5), strides=(1, 1), input_shape=input_shape))\n",
    "model.add(MaxPooling2D((4, 2), strides=(4, 2)))\n",
    "model.add(Activation('sigmoid'))\n",
    "\n",
    "model.add(Conv2D(48, (5, 5), padding=\"valid\"))\n",
    "model.add(MaxPooling2D((4, 2), strides=(4, 2)))\n",
    "model.add(Activation('sigmoid'))\n",
    "\n",
    "model.add(Conv2D(48, (5, 5), padding=\"valid\"))\n",
    "model.add(Activation('sigmoid'))\n",
    "\n",
    "model.add(Flatten())\n",
    "model.add(Dropout(rate=0.5))\n",
    "\n",
    "model.add(Dense(64))\n",
    "model.add(Activation('sigmoid'))\n",
    "model.add(Dropout(rate=0.5))\n",
    "\n",
    "model.add(Dense(4))\n",
    "model.add(Activation('softmax'))"
   ]
  },
  {
   "cell_type": "code",
   "execution_count": 37,
   "metadata": {},
   "outputs": [],
   "source": [
    "#input_shape = (128,128)\n",
    "num_classes = 4\n",
    "\n",
    "model = Sequential()\n",
    "model.add(LSTM(64,\n",
    "               input_shape = X_train.shape[1:],\n",
    "               return_sequences=True, \n",
    "               dropout=0.1, recurrent_dropout=0.1))\n",
    "\n",
    "# Dropout after each LSTM layer, as proposed \n",
    "model.add(Dropout(rate=0.2))\n",
    "model.add(Dense(64, activation='relu'))\n",
    "\n",
    "#model.add(Activation('relu'))\n",
    "# model.add(Dropout(rate=0.5))\n",
    "\n",
    "# Output \n",
    "model.add(Flatten())\n",
    "model.add(Dropout(rate=0.2))\n",
    "model.add(Dense(num_classes, activation='softmax'))\n",
    "\n",
    "adam = Adam(lr=1e-5,\n",
    "            beta_1=0.9,\n",
    "            beta_2=0.999,\n",
    "            epsilon=None,\n",
    "            decay=0.0,\n",
    "            amsgrad=False)\n",
    "\n",
    "model.compile(\n",
    "\toptimizer=adam,\n",
    "\tloss=\"categorical_crossentropy\",\n",
    "\tmetrics=['accuracy'])"
   ]
  },
  {
   "cell_type": "code",
   "execution_count": 39,
   "metadata": {},
   "outputs": [
    {
     "name": "stdout",
     "output_type": "stream",
     "text": [
      "Train on 755 samples, validate on 189 samples\n",
      "Epoch 1/25\n",
      "755/755 [==============================] - 20s 26ms/step - loss: 1.4177 - acc: 0.2530 - val_loss: 1.4261 - val_acc: 0.2487\n",
      "Epoch 2/25\n",
      "755/755 [==============================] - 6s 8ms/step - loss: 1.4010 - acc: 0.2689 - val_loss: 1.4249 - val_acc: 0.2381\n",
      "Epoch 3/25\n",
      "755/755 [==============================] - 6s 8ms/step - loss: 1.4067 - acc: 0.2596 - val_loss: 1.4236 - val_acc: 0.2434\n",
      "Epoch 4/25\n",
      "755/755 [==============================] - 6s 8ms/step - loss: 1.4043 - acc: 0.2609 - val_loss: 1.4229 - val_acc: 0.2434\n",
      "Epoch 5/25\n",
      "755/755 [==============================] - 6s 8ms/step - loss: 1.3922 - acc: 0.2715 - val_loss: 1.4207 - val_acc: 0.2434\n",
      "Epoch 6/25\n",
      "755/755 [==============================] - 6s 8ms/step - loss: 1.3963 - acc: 0.2755 - val_loss: 1.4205 - val_acc: 0.2434\n",
      "Epoch 7/25\n",
      "755/755 [==============================] - 6s 8ms/step - loss: 1.3859 - acc: 0.3020 - val_loss: 1.4179 - val_acc: 0.2434\n",
      "Epoch 8/25\n",
      "755/755 [==============================] - 6s 8ms/step - loss: 1.3851 - acc: 0.2993 - val_loss: 1.4161 - val_acc: 0.2540\n",
      "Epoch 9/25\n",
      "755/755 [==============================] - 6s 7ms/step - loss: 1.3772 - acc: 0.3033 - val_loss: 1.4156 - val_acc: 0.2487\n",
      "Epoch 10/25\n",
      "755/755 [==============================] - 7s 10ms/step - loss: 1.3773 - acc: 0.3086 - val_loss: 1.4136 - val_acc: 0.2487\n",
      "Epoch 11/25\n",
      "755/755 [==============================] - 7s 9ms/step - loss: 1.3609 - acc: 0.3099 - val_loss: 1.4121 - val_acc: 0.2593\n",
      "Epoch 12/25\n",
      "755/755 [==============================] - 6s 8ms/step - loss: 1.3690 - acc: 0.3020 - val_loss: 1.4118 - val_acc: 0.2646\n",
      "Epoch 13/25\n",
      "755/755 [==============================] - 6s 8ms/step - loss: 1.3733 - acc: 0.2927 - val_loss: 1.4102 - val_acc: 0.2487\n",
      "Epoch 14/25\n",
      "755/755 [==============================] - 6s 8ms/step - loss: 1.3664 - acc: 0.2993 - val_loss: 1.4094 - val_acc: 0.2487\n",
      "Epoch 15/25\n",
      "755/755 [==============================] - 6s 8ms/step - loss: 1.3491 - acc: 0.3298 - val_loss: 1.4078 - val_acc: 0.2434\n",
      "Epoch 16/25\n",
      "755/755 [==============================] - 6s 8ms/step - loss: 1.3549 - acc: 0.3179 - val_loss: 1.4073 - val_acc: 0.2698\n",
      "Epoch 17/25\n",
      "755/755 [==============================] - 6s 8ms/step - loss: 1.3507 - acc: 0.3192 - val_loss: 1.4063 - val_acc: 0.2593\n",
      "Epoch 18/25\n",
      "755/755 [==============================] - 6s 8ms/step - loss: 1.3366 - acc: 0.3126 - val_loss: 1.4049 - val_acc: 0.2540\n",
      "Epoch 19/25\n",
      "755/755 [==============================] - 6s 8ms/step - loss: 1.3492 - acc: 0.3311 - val_loss: 1.4041 - val_acc: 0.2646\n",
      "Epoch 20/25\n",
      "755/755 [==============================] - 6s 8ms/step - loss: 1.3402 - acc: 0.3272 - val_loss: 1.4035 - val_acc: 0.2646\n",
      "Epoch 21/25\n",
      "755/755 [==============================] - 6s 8ms/step - loss: 1.3353 - acc: 0.3430 - val_loss: 1.4025 - val_acc: 0.2487\n",
      "Epoch 22/25\n",
      "755/755 [==============================] - 6s 8ms/step - loss: 1.3366 - acc: 0.3325 - val_loss: 1.4021 - val_acc: 0.2434\n",
      "Epoch 23/25\n",
      "755/755 [==============================] - 6s 8ms/step - loss: 1.3511 - acc: 0.3377 - val_loss: 1.4016 - val_acc: 0.2540\n",
      "Epoch 24/25\n",
      "755/755 [==============================] - 5s 6ms/step - loss: 1.3219 - acc: 0.3444 - val_loss: 1.4006 - val_acc: 0.2593\n",
      "Epoch 25/25\n",
      "755/755 [==============================] - 4s 6ms/step - loss: 1.3220 - acc: 0.3603 - val_loss: 1.3998 - val_acc: 0.2593\n"
     ]
    }
   ],
   "source": [
    "history = model.fit(X_train,\n",
    "          y_train,\n",
    "          epochs=25,\n",
    "          batch_size=32,\n",
    "          validation_split=0.20,\n",
    "          verbose=1.0)"
   ]
  },
  {
   "cell_type": "code",
   "execution_count": 40,
   "metadata": {},
   "outputs": [
    {
     "name": "stdout",
     "output_type": "stream",
     "text": [
      "236/236 [==============================] - 0s 1ms/step: \n",
      "Test loss: 1.3576804116620855\n",
      "Test accuracy: 0.3177966106746156\n"
     ]
    }
   ],
   "source": [
    "score = model.evaluate(\n",
    "\tx=X_test,\n",
    "\ty=y_test)\n",
    "\n",
    "print('Test loss:', score[0])\n",
    "print('Test accuracy:', score[1])"
   ]
  },
  {
   "cell_type": "code",
   "execution_count": 41,
   "metadata": {},
   "outputs": [
    {
     "data": {
      "image/png": "[encoded data removed]",
      "text/plain": [
       "<Figure size 432x288 with 1 Axes>"
      ]
     },
     "metadata": {},
     "output_type": "display_data"
    },
    {
     "data": {
      "image/png": "[encoded data removed]",
      "text/plain": [
       "<Figure size 432x288 with 1 Axes>"
      ]
     },
     "metadata": {},
     "output_type": "display_data"
    }
   ],
   "source": [
    "plot_model(model, to_file='../figures/rnn1.png', show_shapes=True)\n",
    "\n",
    "plt.plot(history.history['acc'])\n",
    "plt.plot(history.history['val_acc'])\n",
    "plt.title('Model Accuracy')\n",
    "plt.ylabel('Accuracy')\n",
    "plt.xlabel('Epoch')\n",
    "plt.legend(['Train', 'Test'], loc='upper left')\n",
    "plt.show()\n",
    "\n",
    "# Plot training & validation loss values\n",
    "plt.plot(history.history['loss'])\n",
    "plt.plot(history.history['val_loss'])\n",
    "plt.title('Model Loss')\n",
    "plt.ylabel('Loss')\n",
    "plt.xlabel('Epoch')\n",
    "plt.legend(['Train', 'Test'], loc='upper left')\n",
    "plt.show()"
   ]
  },
  {
   "cell_type": "code",
   "execution_count": null,
   "metadata": {},
   "outputs": [],
   "source": []
  }
 ],
 "metadata": {
  "kernelspec": {
   "display_name": "Python 3",
   "language": "python",
   "name": "python3"
  },
  "language_info": {
   "codemirror_mode": {
    "name": "ipython",
    "version": 3
   },
   "file_extension": ".py",
   "mimetype": "text/x-python",
   "name": "python",
   "nbconvert_exporter": "python",
   "pygments_lexer": "ipython3",
   "version": "3.6.6"
  }
 },
 "nbformat": 4,
 "nbformat_minor": 2
}
