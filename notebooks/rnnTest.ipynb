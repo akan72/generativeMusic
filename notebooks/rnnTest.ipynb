{
 "cells": [
  {
   "cell_type": "code",
   "execution_count": 1,
   "metadata": {},
   "outputs": [
    {
     "name": "stdout",
     "output_type": "stream",
     "text": [
      "C:\\Users\\lexokan\\Dropbox\\R and Python\\generativeMusic\\data\\audio\n"
     ]
    }
   ],
   "source": [
    "#move to data/audio folder from ~/notebooks/\n",
    "%cd ../data/audio"
   ]
  },
  {
   "cell_type": "code",
   "execution_count": 137,
   "metadata": {},
   "outputs": [],
   "source": [
    "import matplotlib.pyplot as plt\n",
    "from scipy import signal\n",
    "from scipy.io import wavfile\n",
    "import numpy as np\n",
    "import glob\n",
    "import re\n",
    "import tensorflow.keras\n",
    "from tensorflow.keras.layers import Dense, Flatten\n",
    "from tensorflow.keras.layers import Conv2D, MaxPooling2D\n",
    "from tensorflow.keras.models import Sequential\n",
    "from sklearn.preprocessing import MinMaxScaler\n",
    "from sklearn.preprocessing import LabelEncoder\n",
    "from random import shuffle\n",
    "import librosa\n",
    "import librosa.display"
   ]
  },
  {
   "cell_type": "code",
   "execution_count": 6,
   "metadata": {},
   "outputs": [],
   "source": [
    "file_list = glob.glob('*.wav')\n",
    "\n",
    "#build spectrograms for conv net\n",
    "spectrograms = []\n",
    "for audio_file in file_list:\n",
    "    sample_rate, samples = wavfile.read(audio_file)\n",
    "    frequencies, times, spectrogram = signal.spectrogram(samples, sample_rate)\n",
    "    np.place(spectrogram, spectrogram == 0, 10**-10) #avoid div by 0 for log\n",
    "    \n",
    "    audio_raw_name = re.search('.+?(?=\\.wav)', audio_file).group(0) #remove .wav extension\n",
    "    \n",
    "    with open('../annotations/meter/' + audio_raw_name + '.meter', 'r') as file:\n",
    "        meter = file.readline()\n",
    "    \n",
    "    spectrograms.append([audio_raw_name, np.log(spectrogram), meter])\n",
    "    \n",
    "#clean spectrograms data\n",
    "invalid_songs = [[],[]]\n",
    "for index, x in enumerate(spectrograms):\n",
    "    if(x[1].shape != (129, 23624)):\n",
    "        invalid_songs[0].append(index)\n",
    "        invalid_songs[1].append(x[0])\n",
    "\n",
    "for i in sorted(invalid_songs[0], reverse= True):\n",
    "    del spectrograms[i]"
   ]
  },
  {
   "cell_type": "code",
   "execution_count": 63,
   "metadata": {},
   "outputs": [],
   "source": [
    "import math\n",
    "\n",
    "def spec_window(times, spectrogram, window):\n",
    "    spectrogram_window = np.zeros((spectrogram.shape[0], math.ceil(spectrogram.shape[1]/window)), dtype = 'float32')\n",
    "    times_window = np.zeros((math.ceil(times.shape[0]/window),), dtype = 'float32')\n",
    "    for i in range(0, spectrogram.shape[1], window):\n",
    "        if (i + window < spectrogram.shape[1]):\n",
    "            spectrogram_window[:,int(i/window)] = np.mean(spectrogram[:, i:i+window], axis= 1)\n",
    "            times_window[int(i/window)] = np.mean(times[i:i+window])\n",
    "        else:\n",
    "            spectrogram_window[:,int(i/window)] = np.mean(spectrogram[:, i:], axis = 1)\n",
    "            times_window[int(i/window)] = np.mean(times[i:])\n",
    "\n",
    "    return times_window, spectrogram_window\n",
    "\n",
    "def spec_plot(times, frequencies, spectrogram, title):\n",
    "    plt.pcolormesh(times, frequencies, np.log(spectrogram))\n",
    "    plt.ylabel('Frequency [Hz]')\n",
    "    plt.xlabel('Time [sec]')\n",
    "    plt.title(title)\n",
    "    plt.show()"
   ]
  },
  {
   "cell_type": "raw",
   "metadata": {},
   "source": [
    "spec_plot(times, frequencies, spectrogram, 'Original Spectrogram')\n",
    "times_conv, spec_conv = spec_window(times, spectrogram, 5)\n",
    "spec_plot(times_conv, frequencies, spec_conv, 'Convolved Spectrogram (5)') #convolved probs wrong term\n",
    "times_conv, spec_conv = spec_window(times, spectrogram, 10)\n",
    "spec_plot(times_conv, frequencies, spec_conv, 'Convolved Spectrogram (10)')\n",
    "times_conv, spec_conv = spec_window(times, spectrogram, 250)\n",
    "spec_plot(times_conv, frequencies, spec_conv, 'Convolved Spectrogram (250)')"
   ]
  },
  {
   "cell_type": "code",
   "execution_count": 146,
   "metadata": {},
   "outputs": [],
   "source": [
    "import copy\n",
    "spectrograms_conv = copy.deepcopy(spectrograms) #don't want to change original, deepcopy to copy objs in list\n",
    "dummy = np.zeros((spectrograms[0][1].shape[1],), dtype = 'float32')\n",
    "for index, rows in enumerate(spectrograms):\n",
    "    _, spectrograms_conv[index][1] = spec_window(dummy, rows[1], 150)"
   ]
  },
  {
   "cell_type": "code",
   "execution_count": 150,
   "metadata": {},
   "outputs": [
    {
     "name": "stdout",
     "output_type": "stream",
     "text": [
      "[1.0000000e-10 1.0000000e-10 1.0000000e-10 ... 3.3387566e-01 3.0386728e+01\n",
      " 3.9717121e+01]\n"
     ]
    },
    {
     "ename": "IndexError",
     "evalue": "tuple index out of range",
     "output_type": "error",
     "traceback": [
      "\u001b[1;31m---------------------------------------------------------------------------\u001b[0m",
      "\u001b[1;31mIndexError\u001b[0m                                Traceback (most recent call last)",
      "\u001b[1;32m<ipython-input-150-5f4065acd419>\u001b[0m in \u001b[0;36m<module>\u001b[1;34m()\u001b[0m\n\u001b[0;32m     12\u001b[0m \u001b[1;33m\u001b[0m\u001b[0m\n\u001b[0;32m     13\u001b[0m \u001b[0mplt\u001b[0m\u001b[1;33m.\u001b[0m\u001b[0mfigure\u001b[0m\u001b[1;33m(\u001b[0m\u001b[0mfigsize\u001b[0m\u001b[1;33m=\u001b[0m\u001b[1;33m(\u001b[0m\u001b[1;36m15\u001b[0m\u001b[1;33m,\u001b[0m \u001b[1;36m5\u001b[0m\u001b[1;33m)\u001b[0m\u001b[1;33m)\u001b[0m\u001b[1;33m\u001b[0m\u001b[0m\n\u001b[1;32m---> 14\u001b[1;33m \u001b[0mlibrosa\u001b[0m\u001b[1;33m.\u001b[0m\u001b[0mdisplay\u001b[0m\u001b[1;33m.\u001b[0m\u001b[0mspecshow\u001b[0m\u001b[1;33m(\u001b[0m\u001b[0mS_db\u001b[0m\u001b[1;33m,\u001b[0m \u001b[0msr\u001b[0m\u001b[1;33m=\u001b[0m\u001b[1;36m2000\u001b[0m\u001b[1;33m,\u001b[0m \u001b[0mx_axis\u001b[0m\u001b[1;33m=\u001b[0m\u001b[1;34m'time'\u001b[0m\u001b[1;33m,\u001b[0m \u001b[0my_axis\u001b[0m\u001b[1;33m=\u001b[0m\u001b[1;34m'log'\u001b[0m\u001b[1;33m)\u001b[0m\u001b[1;33m\u001b[0m\u001b[0m\n\u001b[0m\u001b[0;32m     15\u001b[0m \u001b[0mplt\u001b[0m\u001b[1;33m.\u001b[0m\u001b[0mcolorbar\u001b[0m\u001b[1;33m(\u001b[0m\u001b[1;33m)\u001b[0m\u001b[1;33m\u001b[0m\u001b[0m\n",
      "\u001b[1;32mc:\\users\\lexokan\\anaconda3\\envs\\tensorflow\\lib\\site-packages\\librosa\\display.py\u001b[0m in \u001b[0;36mspecshow\u001b[1;34m(data, x_coords, y_coords, x_axis, y_axis, sr, hop_length, fmin, fmax, bins_per_octave, ax, **kwargs)\u001b[0m\n\u001b[0;32m    681\u001b[0m     \u001b[1;31m# Get the x and y coordinates\u001b[0m\u001b[1;33m\u001b[0m\u001b[1;33m\u001b[0m\u001b[0m\n\u001b[0;32m    682\u001b[0m     \u001b[0my_coords\u001b[0m \u001b[1;33m=\u001b[0m \u001b[0m__mesh_coords\u001b[0m\u001b[1;33m(\u001b[0m\u001b[0my_axis\u001b[0m\u001b[1;33m,\u001b[0m \u001b[0my_coords\u001b[0m\u001b[1;33m,\u001b[0m \u001b[0mdata\u001b[0m\u001b[1;33m.\u001b[0m\u001b[0mshape\u001b[0m\u001b[1;33m[\u001b[0m\u001b[1;36m0\u001b[0m\u001b[1;33m]\u001b[0m\u001b[1;33m,\u001b[0m \u001b[1;33m**\u001b[0m\u001b[0mall_params\u001b[0m\u001b[1;33m)\u001b[0m\u001b[1;33m\u001b[0m\u001b[0m\n\u001b[1;32m--> 683\u001b[1;33m     \u001b[0mx_coords\u001b[0m \u001b[1;33m=\u001b[0m \u001b[0m__mesh_coords\u001b[0m\u001b[1;33m(\u001b[0m\u001b[0mx_axis\u001b[0m\u001b[1;33m,\u001b[0m \u001b[0mx_coords\u001b[0m\u001b[1;33m,\u001b[0m \u001b[0mdata\u001b[0m\u001b[1;33m.\u001b[0m\u001b[0mshape\u001b[0m\u001b[1;33m[\u001b[0m\u001b[1;36m1\u001b[0m\u001b[1;33m]\u001b[0m\u001b[1;33m,\u001b[0m \u001b[1;33m**\u001b[0m\u001b[0mall_params\u001b[0m\u001b[1;33m)\u001b[0m\u001b[1;33m\u001b[0m\u001b[0m\n\u001b[0m\u001b[0;32m    684\u001b[0m \u001b[1;33m\u001b[0m\u001b[0m\n\u001b[0;32m    685\u001b[0m     \u001b[0maxes\u001b[0m \u001b[1;33m=\u001b[0m \u001b[0m__check_axes\u001b[0m\u001b[1;33m(\u001b[0m\u001b[0max\u001b[0m\u001b[1;33m)\u001b[0m\u001b[1;33m\u001b[0m\u001b[0m\n",
      "\u001b[1;31mIndexError\u001b[0m: tuple index out of range"
     ]
    },
    {
     "data": {
      "text/plain": [
       "<Figure size 1080x360 with 0 Axes>"
      ]
     },
     "metadata": {},
     "output_type": "display_data"
    }
   ],
   "source": [
    "# for i in range(len(spectrograms)):\n",
    "#     print(spectrograms[i][2])\n",
    "print(spectrogram[0])\n",
    "    \n",
    "# Nonnegative Matrix Factorization\n",
    "# x, sr = spectrogram[0]\n",
    "#S = librosa.effects.percussive(spectrogram[0])\n",
    "#S = librosa.decompose.hpss(spectrogram[0])\n",
    "\n",
    "# S_db = librosa.amplitude_to_db(abs(S))\n",
    "\n",
    "# plt.figure(figsize=(15, 5))\n",
    "# librosa.display.specshow(S_db, sr=2000, x_axis='time', y_axis='log')\n",
    "# plt.colorbar()"
   ]
  },
  {
   "cell_type": "code",
   "execution_count": 14,
   "metadata": {},
   "outputs": [],
   "source": [
    "len(spectrograms) * .7 #80\n",
    "\n",
    "def load_data(spec_data):\n",
    "    \n",
    "    x_train = np.array([x[1] for x in spec_data[:80]])\n",
    "    y_train = np.array([x[2] for x in spec_data[:80]])\n",
    "    \n",
    "    x_test = np.array([x[1] for x in spec_data[80:]])\n",
    "    y_test = np.array([x[2] for x in spec_data[80:]])\n",
    "    \n",
    "    #print(x_train.shape)\n",
    "    \n",
    "    return (x_train, y_train), (x_test, y_test)\n",
    "\n",
    "shuffle(spectrograms_conv) #shuffle spectrogram data"
   ]
  },
  {
   "cell_type": "code",
   "execution_count": 17,
   "metadata": {},
   "outputs": [
    {
     "name": "stdout",
     "output_type": "stream",
     "text": [
      "x_train shape: (80, 129, 158, 1)\n",
      "80 train samples\n",
      "x_test shape: (80, 129, 158, 1)\n",
      "34 test samples\n"
     ]
    }
   ],
   "source": [
    "batch_size = 1\n",
    "num_classes = 4\n",
    "epochs = 10\n",
    "\n",
    "# input image dimensions\n",
    "img_x, img_y = spectrograms_conv[0][1].shape\n",
    "\n",
    "# load the spectrogram data\n",
    "(x_train, y_train), (x_test, y_test) = load_data(spectrograms_conv)\n",
    "\n",
    "n_train = x_train.shape[0]\n",
    "n_test = x_test.shape[0]\n",
    "\n",
    "scaler = MinMaxScaler(feature_range=(-1, 1))\n",
    "scaler.fit(x_train.reshape(x_train.shape[0]*img_x, img_y))\n",
    "# reshape the data into a 4D tensor - (sample_number, x_img_size, y_img_size, num_channels)\n",
    "# RGB colour images would have 3, spectrogram data has 1\n",
    "x_train = scaler.transform(x_train.reshape(x_train.shape[0]*img_x, img_y)).reshape((x_train.shape[0],img_x, img_y,1))\n",
    "\n",
    "scaler.fit(x_test.reshape(x_test.shape[0]*img_x, img_y))\n",
    "x_test = scaler.transform(x_test.reshape(x_test.shape[0]*img_x, img_y)).reshape((x_test.shape[0],img_x, img_y,1))\n",
    "\n",
    "\n",
    "input_shape = (img_x, img_y, 1)\n",
    "\n",
    "print('x_train shape:', x_train.shape)\n",
    "print(x_train.shape[0], 'train samples')\n",
    "print('x_test shape:', x_train.shape)\n",
    "print(x_test.shape[0], 'test samples')\n",
    "\n",
    "# convert class vectors to binary class matrices - this is for use in the\n",
    "# categorical_crossentropy loss below\n",
    "\n",
    "le = LabelEncoder()\n",
    "le.fit(y_train)\n",
    "y_train = tensorflow.keras.utils.to_categorical(le.transform(y_train), num_classes)\n",
    "y_test = tensorflow.keras.utils.to_categorical(le.transform(y_test), num_classes)\n",
    "\n",
    "#del spectrograms"
   ]
  },
  {
   "cell_type": "code",
   "execution_count": 99,
   "metadata": {},
   "outputs": [
    {
     "name": "stdout",
     "output_type": "stream",
     "text": [
      "[[1. 0. 0. 0.]\n",
      " [0. 0. 1. 0.]\n",
      " [0. 1. 0. 0.]\n",
      " [0. 1. 0. 0.]\n",
      " [0. 0. 1. 0.]\n",
      " [0. 1. 0. 0.]\n",
      " [0. 0. 0. 1.]\n",
      " [0. 0. 1. 0.]\n",
      " [0. 1. 0. 0.]\n",
      " [0. 0. 1. 0.]\n",
      " [0. 0. 0. 1.]\n",
      " [1. 0. 0. 0.]\n",
      " [0. 1. 0. 0.]\n",
      " [0. 0. 1. 0.]\n",
      " [0. 1. 0. 0.]\n",
      " [0. 0. 0. 1.]\n",
      " [0. 0. 1. 0.]\n",
      " [0. 1. 0. 0.]\n",
      " [1. 0. 0. 0.]\n",
      " [1. 0. 0. 0.]\n",
      " [0. 0. 0. 1.]\n",
      " [0. 0. 0. 1.]\n",
      " [0. 1. 0. 0.]\n",
      " [0. 0. 0. 1.]\n",
      " [0. 0. 0. 1.]\n",
      " [0. 0. 1. 0.]\n",
      " [0. 0. 0. 1.]\n",
      " [0. 1. 0. 0.]\n",
      " [1. 0. 0. 0.]\n",
      " [1. 0. 0. 0.]\n",
      " [0. 0. 0. 1.]\n",
      " [1. 0. 0. 0.]\n",
      " [1. 0. 0. 0.]\n",
      " [0. 0. 0. 1.]]\n"
     ]
    }
   ],
   "source": [
    "print(y_test)"
   ]
  },
  {
   "cell_type": "code",
   "execution_count": 20,
   "metadata": {},
   "outputs": [
    {
     "name": "stdout",
     "output_type": "stream",
     "text": [
      "Train on 80 samples, validate on 34 samples\n",
      "Epoch 1/10\n",
      "80/80 [==============================] - 54s 678ms/step - loss: 1.4534 - acc: 0.2750 - val_loss: 1.3862 - val_acc: 0.2647\n",
      "Epoch 2/10\n",
      "80/80 [==============================] - 9s 117ms/step - loss: 1.4422 - acc: 0.3000 - val_loss: 1.3964 - val_acc: 0.2059\n",
      "Epoch 3/10\n",
      "80/80 [==============================] - 9s 116ms/step - loss: 1.4017 - acc: 0.3750 - val_loss: 1.3865 - val_acc: 0.2647\n",
      "Epoch 4/10\n",
      "80/80 [==============================] - 9s 115ms/step - loss: 1.2650 - acc: 0.4625 - val_loss: 1.3700 - val_acc: 0.2647\n",
      "Epoch 5/10\n",
      "80/80 [==============================] - 9s 116ms/step - loss: 1.0707 - acc: 0.6000 - val_loss: 1.4827 - val_acc: 0.2941\n",
      "Epoch 6/10\n",
      "80/80 [==============================] - 10s 124ms/step - loss: 0.6919 - acc: 0.7875 - val_loss: 2.8788 - val_acc: 0.2059\n",
      "Epoch 7/10\n",
      "80/80 [==============================] - 10s 119ms/step - loss: 0.3847 - acc: 0.8500 - val_loss: 2.4231 - val_acc: 0.1765\n",
      "Epoch 8/10\n",
      "80/80 [==============================] - 9s 111ms/step - loss: 0.1145 - acc: 0.9750 - val_loss: 3.8003 - val_acc: 0.1471\n",
      "Epoch 9/10\n",
      "80/80 [==============================] - 9s 112ms/step - loss: 0.0713 - acc: 0.9875 - val_loss: 3.4303 - val_acc: 0.2353\n",
      "Epoch 10/10\n",
      "80/80 [==============================] - 9s 112ms/step - loss: 0.0187 - acc: 1.0000 - val_loss: 3.6544 - val_acc: 0.2353\n"
     ]
    },
    {
     "data": {
      "text/plain": [
       "<tensorflow.python.keras.callbacks.History at 0x1a880fc8ac8>"
      ]
     },
     "execution_count": 20,
     "metadata": {},
     "output_type": "execute_result"
    }
   ],
   "source": [
    "model = Sequential()\n",
    "model.add(Conv2D(16, kernel_size=(5, 5), strides=(1, 1),\n",
    "                 activation='relu',\n",
    "                 input_shape=input_shape))\n",
    "model.add(MaxPooling2D(pool_size=(2, 2), strides=(2, 2)))\n",
    "model.add(Conv2D(24, (5, 5), activation='relu'))\n",
    "model.add(MaxPooling2D(pool_size=(2, 2)))\n",
    "model.add(Flatten())\n",
    "model.add(Dense(100, activation='relu'))\n",
    "model.add(Dense(num_classes, activation='softmax'))\n",
    "\n",
    "model.compile(loss=tensorflow.keras.losses.categorical_crossentropy,\n",
    "              optimizer=tensorflow.keras.optimizers.Adam(),\n",
    "              metrics=['accuracy'])\n",
    "\n",
    "class AccuracyHistory(tensorflow.keras.callbacks.Callback):\n",
    "    def on_train_begin(self, logs={}):\n",
    "        self.acc = []\n",
    "\n",
    "    def on_epoch_end(self, batch, logs={}):\n",
    "        self.acc.append(logs.get('acc'))\n",
    "\n",
    "history = AccuracyHistory()\n",
    "\n",
    "model.fit(x_train, y_train,\n",
    "          batch_size=batch_size,\n",
    "          epochs=epochs,\n",
    "          verbose=1,\n",
    "          validation_data=(x_test, y_test),\n",
    "          callbacks=[history])"
   ]
  },
  {
   "cell_type": "code",
   "execution_count": 21,
   "metadata": {},
   "outputs": [
    {
     "name": "stdout",
     "output_type": "stream",
     "text": [
      "Test loss: 3.654443158822901\n",
      "Test accuracy: 0.23529411764705882\n"
     ]
    }
   ],
   "source": [
    "score = model.evaluate(x_test, y_test, verbose=0)\n",
    "print('Test loss:', score[0])\n",
    "print('Test accuracy:', score[1])"
   ]
  },
  {
   "cell_type": "code",
   "execution_count": 22,
   "metadata": {},
   "outputs": [
    {
     "data": {
      "image/png": "[encoded data removed]",
      "text/plain": [
       "<Figure size 432x288 with 1 Axes>"
      ]
     },
     "metadata": {},
     "output_type": "display_data"
    }
   ],
   "source": [
    "plt.plot(range(1, 11), history.acc)\n",
    "plt.xlabel('Epochs')\n",
    "plt.ylabel('Accuracy')\n",
    "plt.show()"
   ]
  },
  {
   "cell_type": "code",
   "execution_count": 23,
   "metadata": {},
   "outputs": [],
   "source": [
    "del model"
   ]
  },
  {
   "cell_type": "code",
   "execution_count": 24,
   "metadata": {},
   "outputs": [
    {
     "name": "stdout",
     "output_type": "stream",
     "text": [
      "MinMaxScaler(copy=True, feature_range=(0, 1))\n",
      "[ 1. 18.]\n",
      "[[0.   0.  ]\n",
      " [0.25 0.25]\n",
      " [0.5  0.5 ]\n",
      " [1.   1.  ]]\n",
      "[[1.5 0. ]]\n"
     ]
    }
   ],
   "source": [
    "from sklearn.preprocessing import MinMaxScaler\n",
    "\n",
    "data = np.array([[-1, 2], [-0.5, 6], [0, 10], [1, 18]])\n",
    "scaler = MinMaxScaler()\n",
    "print(scaler.fit(data))\n",
    "print(scaler.data_max_)\n",
    "print(scaler.transform(data))\n",
    "print(scaler.transform([[2, 2]]))"
   ]
  }
 ],
 "metadata": {
  "kernelspec": {
   "display_name": "Python 3",
   "language": "python",
   "name": "python3"
  },
  "language_info": {
   "codemirror_mode": {
    "name": "ipython",
    "version": 3
   },
   "file_extension": ".py",
   "mimetype": "text/x-python",
   "name": "python",
   "nbconvert_exporter": "python",
   "pygments_lexer": "ipython3",
   "version": "3.5.4"
  }
 },
 "nbformat": 4,
 "nbformat_minor": 2
}
