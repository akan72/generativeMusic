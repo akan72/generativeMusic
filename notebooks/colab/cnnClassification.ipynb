{
 "cells": [
  {
   "cell_type": "markdown",
   "metadata": {
    "colab_type": "text",
    "id": "hivldUNJx01C"
   },
   "source": [
    "# Environment Setup"
   ]
  },
  {
   "cell_type": "markdown",
   "metadata": {
    "colab_type": "text",
    "id": "kGBUZ95wzrbG"
   },
   "source": [
    "Mount Drive\n",
    "\n",
    "Navigate to data/audio"
   ]
  },
  {
   "cell_type": "code",
   "execution_count": 1,
   "metadata": {
    "colab": {
     "base_uri": "https://localhost:8080/",
     "height": 141
    },
    "colab_type": "code",
    "executionInfo": {
     "elapsed": 26984,
     "status": "ok",
     "timestamp": 1542434412945,
     "user": {
      "displayName": "Akshay Sankar",
      "photoUrl": "https://lh5.googleusercontent.com/-BJmEmP3kWI0/AAAAAAAAAAI/AAAAAAAALes/v0fAGY35DD0/s64/photo.jpg",
      "userId": "02429858030549574156"
     },
     "user_tz": 300
    },
    "id": "Z53-tv_7dKry",
    "outputId": "e0a830f3-f6d9-451d-f0db-a43a48cfc93e"
   },
   "outputs": [
    {
     "name": "stdout",
     "output_type": "stream",
     "text": [
      "Go to this URL in a browser: https://accounts.google.com/o/oauth2/auth?client_id=947318989803-6bn6qk8qdgf4n4g3pfee6491hc0brc4i.apps.googleusercontent.com&redirect_uri=urn%3Aietf%3Awg%3Aoauth%3A2.0%3Aoob&scope=email%20https%3A%2F%2Fwww.googleapis.com%2Fauth%2Fdocs.test%20https%3A%2F%2Fwww.googleapis.com%2Fauth%2Fdrive%20https%3A%2F%2Fwww.googleapis.com%2Fauth%2Fdrive.photos.readonly%20https%3A%2F%2Fwww.googleapis.com%2Fauth%2Fpeopleapi.readonly&response_type=code\n",
      "\n",
      "Enter your authorization code:\n",
      "··········\n",
      "Mounted at /content/drive/\n",
      "/content/drive/My Drive/data/audio\n"
     ]
    }
   ],
   "source": [
    "# Load the Drive helper and mount\n",
    "from google.colab import drive\n",
    "\n",
    "# This will prompt for authorization.\n",
    "drive.mount('/content/drive/')\n",
    "\n",
    "%cd \"/content/drive/My Drive/data/audio\""
   ]
  },
  {
   "cell_type": "markdown",
   "metadata": {
    "colab_type": "text",
    "id": "-gdhIuxcyH-F"
   },
   "source": [
    "Check GPU connection"
   ]
  },
  {
   "cell_type": "code",
   "execution_count": 2,
   "metadata": {
    "colab": {
     "base_uri": "https://localhost:8080/",
     "height": 34
    },
    "colab_type": "code",
    "executionInfo": {
     "elapsed": 4680,
     "status": "ok",
     "timestamp": 1542434416117,
     "user": {
      "displayName": "Akshay Sankar",
      "photoUrl": "https://lh5.googleusercontent.com/-BJmEmP3kWI0/AAAAAAAAAAI/AAAAAAAALes/v0fAGY35DD0/s64/photo.jpg",
      "userId": "02429858030549574156"
     },
     "user_tz": 300
    },
    "id": "rN_vXG0oeONR",
    "outputId": "0db45a4a-a19d-4175-a1cf-40b62b5ebab0"
   },
   "outputs": [
    {
     "name": "stdout",
     "output_type": "stream",
     "text": [
      "Found GPU at: /device:GPU:0\n"
     ]
    }
   ],
   "source": [
    "import tensorflow as tf\n",
    "device_name = tf.test.gpu_device_name()\n",
    "if device_name != '/device:GPU:0':\n",
    "  raise SystemError('GPU device not found')\n",
    "print('Found GPU at: {}'.format(device_name))"
   ]
  },
  {
   "cell_type": "markdown",
   "metadata": {
    "colab_type": "text",
    "id": "WmSyj4Key5sx"
   },
   "source": [
    "Install additional packages (e.g. librosa)"
   ]
  },
  {
   "cell_type": "code",
   "execution_count": 3,
   "metadata": {
    "colab": {
     "base_uri": "https://localhost:8080/",
     "height": 558
    },
    "colab_type": "code",
    "executionInfo": {
     "elapsed": 12024,
     "status": "ok",
     "timestamp": 1542434425980,
     "user": {
      "displayName": "Akshay Sankar",
      "photoUrl": "https://lh5.googleusercontent.com/-BJmEmP3kWI0/AAAAAAAAAAI/AAAAAAAALes/v0fAGY35DD0/s64/photo.jpg",
      "userId": "02429858030549574156"
     },
     "user_tz": 300
    },
    "id": "D8RuhLAVdzWh",
    "outputId": "d9ba457b-a4ef-4021-f82c-53f3dcb1fc0b"
   },
   "outputs": [
    {
     "name": "stdout",
     "output_type": "stream",
     "text": [
      "Collecting librosa\n",
      "\u001b[?25l  Downloading https://files.pythonhosted.org/packages/09/b4/5b411f19de48f8fc1a0ff615555aa9124952e4156e94d4803377e50cfa4c/librosa-0.6.2.tar.gz (1.6MB)\n",
      "\u001b[K    100% |████████████████████████████████| 1.6MB 8.0MB/s \n",
      "\u001b[?25hCollecting audioread>=2.0.0 (from librosa)\n",
      "  Downloading https://files.pythonhosted.org/packages/f0/41/8cd160c6b2046b997d571a744a7f398f39e954a62dd747b2aae1ad7f07d4/audioread-2.1.6.tar.gz\n",
      "Requirement already satisfied: numpy>=1.8.0 in /usr/local/lib/python3.6/dist-packages (from librosa) (1.14.6)\n",
      "Requirement already satisfied: scipy>=0.14.0 in /usr/local/lib/python3.6/dist-packages (from librosa) (1.1.0)\n",
      "Requirement already satisfied: scikit-learn!=0.19.0,>=0.14.0 in /usr/local/lib/python3.6/dist-packages (from librosa) (0.19.2)\n",
      "Requirement already satisfied: joblib>=0.12 in /usr/local/lib/python3.6/dist-packages (from librosa) (0.13.0)\n",
      "Requirement already satisfied: decorator>=3.0.0 in /usr/local/lib/python3.6/dist-packages (from librosa) (4.3.0)\n",
      "Requirement already satisfied: six>=1.3 in /usr/local/lib/python3.6/dist-packages (from librosa) (1.11.0)\n",
      "Collecting resampy>=0.2.0 (from librosa)\n",
      "\u001b[?25l  Downloading https://files.pythonhosted.org/packages/14/b6/66a06d85474190b50aee1a6c09cdc95bb405ac47338b27e9b21409da1760/resampy-0.2.1.tar.gz (322kB)\n",
      "\u001b[K    100% |████████████████████████████████| 327kB 11.0MB/s \n",
      "\u001b[?25hCollecting numba>=0.38.0 (from librosa)\n",
      "\u001b[?25l  Downloading https://files.pythonhosted.org/packages/42/45/8d5fc45e5f760ac65906ba48dec98e99e7920c96783ac7248c5e31c9464e/numba-0.40.1-cp36-cp36m-manylinux1_x86_64.whl (3.2MB)\n",
      "\u001b[K    100% |████████████████████████████████| 3.2MB 7.6MB/s \n",
      "\u001b[?25hCollecting llvmlite>=0.25.0dev0 (from numba>=0.38.0->librosa)\n",
      "\u001b[?25l  Downloading https://files.pythonhosted.org/packages/34/fb/f9c2e9e0ef2b54c52f0b727cf6af75b68c3d7ddb6d88c8d557b1b16bc1ab/llvmlite-0.25.0-cp36-cp36m-manylinux1_x86_64.whl (16.1MB)\n",
      "\u001b[K    100% |████████████████████████████████| 16.1MB 1.6MB/s \n",
      "\u001b[?25hBuilding wheels for collected packages: librosa, audioread, resampy\n",
      "  Running setup.py bdist_wheel for librosa ... \u001b[?25l-\b \b\\\b \bdone\n",
      "\u001b[?25h  Stored in directory: /root/.cache/pip/wheels/18/b8/10/f0f8f6ac60668a5cd75596cf14c25bb6b3ea1ecd815f058b7e\n",
      "  Running setup.py bdist_wheel for audioread ... \u001b[?25l-\b \bdone\n",
      "\u001b[?25h  Stored in directory: /root/.cache/pip/wheels/53/02/90/7b5c4081b7470c550ab605f600bad237dde12a6b8999b11f50\n",
      "  Running setup.py bdist_wheel for resampy ... \u001b[?25l-\b \b\\\b \bdone\n",
      "\u001b[?25h  Stored in directory: /root/.cache/pip/wheels/ff/4f/ed/2e6c676c23efe5394bb40ade50662e90eb46e29b48324c5f9b\n",
      "Successfully built librosa audioread resampy\n",
      "Installing collected packages: audioread, llvmlite, numba, resampy, librosa\n",
      "Successfully installed audioread-2.1.6 librosa-0.6.2 llvmlite-0.25.0 numba-0.40.1 resampy-0.2.1\n"
     ]
    }
   ],
   "source": [
    "!pip install librosa"
   ]
  },
  {
   "cell_type": "code",
   "execution_count": 4,
   "metadata": {
    "colab": {
     "base_uri": "https://localhost:8080/",
     "height": 34
    },
    "colab_type": "code",
    "executionInfo": {
     "elapsed": 10462,
     "status": "ok",
     "timestamp": 1542434427049,
     "user": {
      "displayName": "Akshay Sankar",
      "photoUrl": "https://lh5.googleusercontent.com/-BJmEmP3kWI0/AAAAAAAAAAI/AAAAAAAALes/v0fAGY35DD0/s64/photo.jpg",
      "userId": "02429858030549574156"
     },
     "user_tz": 300
    },
    "id": "7niofjnLdKsL",
    "outputId": "141de09d-84cd-438f-9aff-29f65c6cc2b8"
   },
   "outputs": [
    {
     "name": "stderr",
     "output_type": "stream",
     "text": [
      "Using TensorFlow backend.\n"
     ]
    }
   ],
   "source": [
    "import keras\n",
    "from keras.layers import Activation, Dense, Dropout, Conv2D, \\\n",
    "                         Flatten, MaxPooling2D\n",
    "from keras.models import Sequential\n",
    "import librosa\n",
    "import librosa.display\n",
    "import numpy as np\n",
    "import random\n",
    "import glob\n",
    "import re\n",
    "from sklearn.preprocessing import LabelEncoder"
   ]
  },
  {
   "cell_type": "markdown",
   "metadata": {
    "colab_type": "text",
    "id": "ZnVv7vs1xwH8"
   },
   "source": [
    "# Data Exploration"
   ]
  },
  {
   "cell_type": "markdown",
   "metadata": {
    "colab_type": "text",
    "id": "Vd2BwcAdzdSK"
   },
   "source": [
    "Example of spectrograms of different meters\n",
    "\n",
    "Clearly there is some difference in structure in melspectrograms"
   ]
  },
  {
   "cell_type": "code",
   "execution_count": 5,
   "metadata": {
    "colab": {
     "base_uri": "https://localhost:8080/",
     "height": 361
    },
    "colab_type": "code",
    "executionInfo": {
     "elapsed": 9525,
     "status": "ok",
     "timestamp": 1542434428591,
     "user": {
      "displayName": "Akshay Sankar",
      "photoUrl": "https://lh5.googleusercontent.com/-BJmEmP3kWI0/AAAAAAAAAAI/AAAAAAAALes/v0fAGY35DD0/s64/photo.jpg",
      "userId": "02429858030549574156"
     },
     "user_tz": 300
    },
    "id": "y047mGZAdKsU",
    "outputId": "1a08d8b1-ef3b-4fa3-9b90-d080cdd33a20"
   },
   "outputs": [
    {
     "data": {
      "image/png": "[encoded data removed]",
      "text/plain": [
       "<matplotlib.figure.Figure at 0x7f0879b8a400>"
      ]
     },
     "metadata": {
      "tags": []
     },
     "output_type": "display_data"
    }
   ],
   "source": [
    "# Example of spectrogram\n",
    "y, sr = librosa.load('01_10003_1-04_Shri_Visvanatham.wav',\n",
    "                     offset = 25.0, duration=2.97)\n",
    "ps = librosa.feature.melspectrogram(y=y, sr=sr)\n",
    "librosa.display.specshow(ps, y_axis='mel', x_axis='time');"
   ]
  },
  {
   "cell_type": "code",
   "execution_count": 6,
   "metadata": {
    "colab": {
     "base_uri": "https://localhost:8080/",
     "height": 378
    },
    "colab_type": "code",
    "executionInfo": {
     "elapsed": 8491,
     "status": "ok",
     "timestamp": 1542434429730,
     "user": {
      "displayName": "Akshay Sankar",
      "photoUrl": "https://lh5.googleusercontent.com/-BJmEmP3kWI0/AAAAAAAAAAI/AAAAAAAALes/v0fAGY35DD0/s64/photo.jpg",
      "userId": "02429858030549574156"
     },
     "user_tz": 300
    },
    "id": "SzPXdVM4dKsg",
    "outputId": "e923eb28-52d3-422c-abae-6be843db9d76"
   },
   "outputs": [
    {
     "data": {
      "text/plain": [
       "<matplotlib.axes._subplots.AxesSubplot at 0x7f0879864898>"
      ]
     },
     "execution_count": 6,
     "metadata": {
      "tags": []
     },
     "output_type": "execute_result"
    },
    {
     "data": {
      "image/png": "[encoded data removed]",
      "text/plain": [
       "<matplotlib.figure.Figure at 0x7f087982e320>"
      ]
     },
     "metadata": {
      "tags": []
     },
     "output_type": "display_data"
    }
   ],
   "source": [
    "# Example of spectrogram\n",
    "y, sr = librosa.load('01_11001_3_Sankari_Neeve.wav',\n",
    "                     offset = 45.00, duration=2.97)\n",
    "ps = librosa.feature.melspectrogram(y=y, sr=sr)\n",
    "librosa.display.specshow(ps, y_axis='mel', x_axis='time')"
   ]
  },
  {
   "cell_type": "markdown",
   "metadata": {
    "colab_type": "text",
    "id": "jgepg8K9z_dA"
   },
   "source": [
    "# Data Preprocessing"
   ]
  },
  {
   "cell_type": "markdown",
   "metadata": {
    "colab_type": "text",
    "id": "ynU7RpgM0UXR"
   },
   "source": [
    "Extract song names and corresponding meters\n",
    "\n",
    "Encode song meters to integers for classifier\n",
    "\n",
    "**model and preprocessing code largely based on:**\n",
    "*   Code Emporium on YouTube: *Sound Play with Convolution Neural Networks*\n",
    "*   Code Emporium's (Ajay Halthor) code on GitHub: *audio-classifier-convNet*\n",
    "*   arXiv paper for model specification: https://arxiv.org/pdf/1608.04363.pdf (by *Justin Salamon and Juan Pablo Bello at MARL/CUSP at NYU*)\n"
   ]
  },
  {
   "cell_type": "code",
   "execution_count": 7,
   "metadata": {
    "colab": {
     "base_uri": "https://localhost:8080/",
     "height": 34
    },
    "colab_type": "code",
    "executionInfo": {
     "elapsed": 19629,
     "status": "ok",
     "timestamp": 1542434449296,
     "user": {
      "displayName": "Akshay Sankar",
      "photoUrl": "https://lh5.googleusercontent.com/-BJmEmP3kWI0/AAAAAAAAAAI/AAAAAAAALes/v0fAGY35DD0/s64/photo.jpg",
      "userId": "02429858030549574156"
     },
     "user_tz": 300
    },
    "id": "QJHRCzibdKsp",
    "outputId": "b725264f-e746-40b2-dc4c-5e52db8823a3"
   },
   "outputs": [
    {
     "data": {
      "text/plain": [
       "(118, 118)"
      ]
     },
     "execution_count": 7,
     "metadata": {
      "tags": []
     },
     "output_type": "execute_result"
    }
   ],
   "source": [
    "# Extract song names\n",
    "songs = [re.search('.+?(?=\\.wav)', x).group(0)\n",
    "              for x in glob.iglob('*.wav')]\n",
    "# Extract song meter\n",
    "meter = []\n",
    "for song in songs:\n",
    "    with open('../annotations/meter/' + song + '.meter', 'r') as file:\n",
    "        meter.append(file.readline())\n",
    "\n",
    "# Encode song meter to integer\n",
    "le = LabelEncoder()\n",
    "meter_enc = le.fit_transform(meter)\n",
    "meter[:5] , meter_enc[:5], songs[:5]\n",
    "len(meter_enc), len(songs)\n"
   ]
  },
  {
   "cell_type": "code",
   "execution_count": 8,
   "metadata": {
    "colab": {
     "base_uri": "https://localhost:8080/",
     "height": 34
    },
    "colab_type": "code",
    "executionInfo": {
     "elapsed": 14709,
     "status": "ok",
     "timestamp": 1542434449302,
     "user": {
      "displayName": "Akshay Sankar",
      "photoUrl": "https://lh5.googleusercontent.com/-BJmEmP3kWI0/AAAAAAAAAAI/AAAAAAAALes/v0fAGY35DD0/s64/photo.jpg",
      "userId": "02429858030549574156"
     },
     "user_tz": 300
    },
    "id": "VpBcTvLqCTgx",
    "outputId": "07f4cf04-d2c5-4b73-be66-e1f0cc9b0776"
   },
   "outputs": [
    {
     "data": {
      "text/plain": [
       "(90, 28)"
      ]
     },
     "execution_count": 8,
     "metadata": {
      "tags": []
     },
     "output_type": "execute_result"
    }
   ],
   "source": [
    "song_meter = list(zip(songs, meter_enc))\n",
    "\n",
    "random.shuffle(song_meter)\n",
    "\n",
    "train = song_meter[:90]\n",
    "test = song_meter[90:]\n",
    "\n",
    "songs_train, meter_train =  zip(*train)\n",
    "songs_test, meter_test = zip(*test)\n",
    "\n",
    "songs_train[:5] , songs_test[:5]\n",
    "len(songs_train), len(songs_test)\n",
    "\n",
    "\n"
   ]
  },
  {
   "cell_type": "code",
   "execution_count": 10,
   "metadata": {
    "colab": {
     "base_uri": "https://localhost:8080/",
     "height": 2066
    },
    "colab_type": "code",
    "executionInfo": {
     "elapsed": 1901959,
     "status": "ok",
     "timestamp": 1542436373149,
     "user": {
      "displayName": "Akshay Sankar",
      "photoUrl": "https://lh5.googleusercontent.com/-BJmEmP3kWI0/AAAAAAAAAAI/AAAAAAAALes/v0fAGY35DD0/s64/photo.jpg",
      "userId": "02429858030549574156"
     },
     "user_tz": 300
    },
    "id": "eT5Fn0QVEX2j",
    "outputId": "f2d0eb00-9f79-46a4-810a-85abe36afd3e"
   },
   "outputs": [
    {
     "name": "stdout",
     "output_type": "stream",
     "text": [
      "0\n",
      "1\n",
      "2\n",
      "3\n",
      "4\n",
      "5\n",
      "6\n",
      "7\n",
      "8\n",
      "9\n",
      "10\n",
      "11\n",
      "12\n",
      "13\n",
      "14\n",
      "15\n",
      "16\n",
      "17\n",
      "18\n",
      "19\n",
      "20\n",
      "21\n",
      "22\n",
      "23\n",
      "24\n",
      "25\n",
      "26\n",
      "27\n",
      "28\n",
      "29\n",
      "30\n",
      "31\n",
      "32\n",
      "33\n",
      "34\n",
      "35\n",
      "36\n",
      "37\n",
      "38\n",
      "39\n",
      "40\n",
      "41\n",
      "42\n",
      "43\n",
      "44\n",
      "45\n",
      "46\n",
      "47\n",
      "48\n",
      "49\n",
      "50\n",
      "51\n",
      "52\n",
      "53\n",
      "54\n",
      "55\n",
      "56\n",
      "57\n",
      "58\n",
      "59\n",
      "60\n",
      "61\n",
      "62\n",
      "63\n",
      "64\n",
      "65\n",
      "66\n",
      "67\n",
      "68\n",
      "69\n",
      "70\n",
      "71\n",
      "72\n",
      "73\n",
      "74\n",
      "75\n",
      "76\n",
      "77\n",
      "78\n",
      "79\n",
      "80\n",
      "81\n",
      "82\n",
      "83\n",
      "84\n",
      "85\n",
      "86\n",
      "87\n",
      "88\n",
      "89\n",
      "0\n",
      "1\n",
      "2\n",
      "3\n",
      "4\n",
      "5\n",
      "6\n",
      "7\n",
      "8\n",
      "9\n",
      "10\n",
      "11\n",
      "12\n",
      "13\n",
      "14\n",
      "15\n",
      "16\n",
      "17\n",
      "18\n",
      "19\n",
      "20\n",
      "21\n",
      "22\n",
      "23\n",
      "24\n",
      "25\n",
      "26\n",
      "27\n"
     ]
    }
   ],
   "source": [
    "D_train = []\n",
    "\n",
    "for i, song in enumerate(songs_train):\n",
    "    print(i) #comment out to hide verbose output\n",
    "    for j in range(60):\n",
    "        y, sr = librosa.load(song + '.wav', \n",
    "                             offset = np.random.randint(10, 80),\n",
    "                             duration=2.97)  \n",
    "        ps = librosa.feature.melspectrogram(y=y, sr=sr)\n",
    "        if ps.shape != (128, 128): continue\n",
    "        D_train.append( (song, ps, meter_train[i]) )\n",
    "        \n",
    "D_test = []        \n",
    "for i, song in enumerate(songs_test):\n",
    "    print(i) #comment out to hide verbose output\n",
    "    for j in range(60):\n",
    "        y, sr = librosa.load(song + '.wav', \n",
    "                             offset = np.random.randint(10, 80),\n",
    "                             duration=2.97)  \n",
    "        ps = librosa.feature.melspectrogram(y=y, sr=sr)\n",
    "        if ps.shape != (128, 128): continue\n",
    "        D_test.append( (song, ps, meter_test[i]) )\n"
   ]
  },
  {
   "cell_type": "markdown",
   "metadata": {
    "colab_type": "text",
    "id": "6XTwwpNF0kGR"
   },
   "source": [
    "Create dataset as list of tuples -- (song name, melspectrogram array, meter encoding)\n",
    "\n",
    "Created random melspec snapshots of ~3s b/w 10s and 80s of each song\n",
    "\n",
    "\\# of random melspec snapshots (30) affects total sample size = # snapshots * # songs\n",
    "\n",
    "Takes long time (and memory!) to build dataset --> bottle neck of script\n",
    "\n",
    "Improvements:\n",
    "\n",
    "*   Create generator to feed in batches of training & validation data in real-tim\n",
    "*   Preprocess data in a multicore manner\n",
    "\n"
   ]
  },
  {
   "cell_type": "code",
   "execution_count": 0,
   "metadata": {
    "colab": {
     "base_uri": "https://localhost:8080/",
     "height": 2063
    },
    "colab_type": "code",
    "executionInfo": {
     "elapsed": 302890,
     "status": "ok",
     "timestamp": 1542350589905,
     "user": {
      "displayName": "Akshay Sankar",
      "photoUrl": "https://lh5.googleusercontent.com/-BJmEmP3kWI0/AAAAAAAAAAI/AAAAAAAALes/v0fAGY35DD0/s64/photo.jpg",
      "userId": "02429858030549574156"
     },
     "user_tz": 300
    },
    "id": "N35sSgNudKst",
    "outputId": "4edddb19-842e-460f-e2d6-7e208fa9b59f"
   },
   "outputs": [
    {
     "name": "stdout",
     "output_type": "stream",
     "text": [
      "0\n",
      "1\n",
      "2\n",
      "3\n",
      "4\n",
      "5\n",
      "6\n",
      "7\n",
      "8\n",
      "9\n",
      "10\n",
      "11\n",
      "12\n",
      "13\n",
      "14\n",
      "15\n",
      "16\n",
      "17\n",
      "18\n",
      "19\n",
      "20\n",
      "21\n",
      "22\n",
      "23\n",
      "24\n",
      "25\n",
      "26\n",
      "27\n",
      "28\n",
      "29\n",
      "30\n",
      "31\n",
      "32\n",
      "33\n",
      "34\n",
      "35\n",
      "36\n",
      "37\n",
      "38\n",
      "39\n",
      "40\n",
      "41\n",
      "42\n",
      "43\n",
      "44\n",
      "45\n",
      "46\n",
      "47\n",
      "48\n",
      "49\n",
      "50\n",
      "51\n",
      "52\n",
      "53\n",
      "54\n",
      "55\n",
      "56\n",
      "57\n",
      "58\n",
      "59\n",
      "60\n",
      "61\n",
      "62\n",
      "63\n",
      "64\n",
      "65\n",
      "66\n",
      "67\n",
      "68\n",
      "69\n",
      "70\n",
      "71\n",
      "72\n",
      "73\n",
      "74\n",
      "75\n",
      "76\n",
      "77\n",
      "78\n",
      "79\n",
      "80\n",
      "81\n",
      "82\n",
      "83\n",
      "84\n",
      "85\n",
      "86\n",
      "87\n",
      "88\n",
      "89\n",
      "90\n",
      "91\n",
      "92\n",
      "93\n",
      "94\n",
      "95\n",
      "96\n",
      "97\n",
      "98\n",
      "99\n",
      "100\n",
      "101\n",
      "102\n",
      "103\n",
      "104\n",
      "105\n",
      "106\n",
      "107\n",
      "108\n",
      "109\n",
      "110\n",
      "111\n",
      "112\n",
      "113\n",
      "114\n",
      "115\n",
      "116\n",
      "117\n"
     ]
    }
   ],
   "source": [
    "D = [] # Dataset\n",
    "\n",
    "for i, song in enumerate(songs):\n",
    "    print(i) #comment out to hide verbose output\n",
    "    for j in range(10):\n",
    "        y, sr = librosa.load(song + '.wav', \n",
    "                             offset = np.random.randint(10, 80),\n",
    "                             duration=2.97)  \n",
    "        ps = librosa.feature.melspectrogram(y=y, sr=sr)\n",
    "        if ps.shape != (128, 128): continue\n",
    "        D.append( (song, ps, meter_enc[i]) )\n",
    "    "
   ]
  },
  {
   "cell_type": "code",
   "execution_count": 0,
   "metadata": {
    "colab": {
     "base_uri": "https://localhost:8080/",
     "height": 35
    },
    "colab_type": "code",
    "executionInfo": {
     "elapsed": 823,
     "status": "ok",
     "timestamp": 1542350668458,
     "user": {
      "displayName": "Akshay Sankar",
      "photoUrl": "https://lh5.googleusercontent.com/-BJmEmP3kWI0/AAAAAAAAAAI/AAAAAAAALes/v0fAGY35DD0/s64/photo.jpg",
      "userId": "02429858030549574156"
     },
     "user_tz": 300
    },
    "id": "5WIYLP9gdKsw",
    "outputId": "5f662ad1-f5cd-4d6c-8d74-c9178478a141",
    "scrolled": true
   },
   "outputs": [
    {
     "name": "stdout",
     "output_type": "stream",
     "text": [
      "Number of samples:  1180\n"
     ]
    }
   ],
   "source": [
    "print(\"Number of samples: \", len(D))"
   ]
  },
  {
   "cell_type": "code",
   "execution_count": 11,
   "metadata": {
    "colab": {
     "base_uri": "https://localhost:8080/",
     "height": 52
    },
    "colab_type": "code",
    "executionInfo": {
     "elapsed": 1895364,
     "status": "ok",
     "timestamp": 1542436373155,
     "user": {
      "displayName": "Akshay Sankar",
      "photoUrl": "https://lh5.googleusercontent.com/-BJmEmP3kWI0/AAAAAAAAAAI/AAAAAAAALes/v0fAGY35DD0/s64/photo.jpg",
      "userId": "02429858030549574156"
     },
     "user_tz": 300
    },
    "id": "058S-3IwHrrW",
    "outputId": "2dd77277-b374-4202-b8eb-40d3b832bcfd"
   },
   "outputs": [
    {
     "name": "stdout",
     "output_type": "stream",
     "text": [
      "Number of training samples:  5400\n",
      "Number of testing samples:  1680\n"
     ]
    }
   ],
   "source": [
    "print(\"Number of training samples: \", len(D_train))\n",
    "\n",
    "print(\"Number of testing samples: \", len(D_test))\n"
   ]
  },
  {
   "cell_type": "markdown",
   "metadata": {
    "colab_type": "text",
    "id": "_SSOd9GQ3no2"
   },
   "source": [
    "Create train-test splits\n",
    "\n",
    "Reshape features for CNN input\n",
    "\n",
    "Create one-hot matrices for labels for CNN input"
   ]
  },
  {
   "cell_type": "code",
   "execution_count": 0,
   "metadata": {
    "colab": {},
    "colab_type": "code",
    "collapsed": true,
    "id": "9UGQYRMuQ5oW"
   },
   "outputs": [],
   "source": [
    "import copy\n",
    "\n",
    "tmp1 = copy.deepcopy(D_train)\n",
    "tmp2 = copy.deepcopy(D_test)\n",
    "\n"
   ]
  },
  {
   "cell_type": "code",
   "execution_count": 0,
   "metadata": {
    "colab": {
     "base_uri": "https://localhost:8080/",
     "height": 277
    },
    "colab_type": "code",
    "executionInfo": {
     "elapsed": 1008,
     "status": "ok",
     "timestamp": 1542350986081,
     "user": {
      "displayName": "Akshay Sankar",
      "photoUrl": "https://lh5.googleusercontent.com/-BJmEmP3kWI0/AAAAAAAAAAI/AAAAAAAALes/v0fAGY35DD0/s64/photo.jpg",
      "userId": "02429858030549574156"
     },
     "user_tz": 300
    },
    "id": "qi0lQW6XSDOA",
    "outputId": "c8f0e41c-5517-407e-adc2-c2d637bd3ff2"
   },
   "outputs": [
    {
     "data": {
      "text/plain": [
       "('16_12028_2-01_Innamum',\n",
       " array([[8.01554866e-01, 1.94346059e-01, 1.11559526e-03, ...,\n",
       "         1.70150549e-03, 1.01673861e-03, 1.48623540e+00],\n",
       "        [1.15785673e+00, 2.95366661e-01, 3.65929972e-03, ...,\n",
       "         5.01009588e-03, 4.09926987e-03, 1.64677319e+00],\n",
       "        [1.79603285e+00, 4.70447088e-01, 6.96525482e-03, ...,\n",
       "         1.25268877e-02, 9.88900440e-03, 1.75697206e+00],\n",
       "        ...,\n",
       "        [8.79534740e-04, 1.03743927e-03, 2.11696519e-03, ...,\n",
       "         7.16995270e-04, 8.48048333e-04, 2.19927047e-03],\n",
       "        [8.55181897e-04, 6.39363732e-04, 5.74754177e-04, ...,\n",
       "         1.96707542e-04, 1.67288225e-04, 1.25232736e-03],\n",
       "        [2.17273134e-04, 8.00381771e-05, 4.77669017e-05, ...,\n",
       "         1.23884758e-05, 9.70013059e-06, 1.02497457e-03]]),\n",
       " 2)"
      ]
     },
     "execution_count": 51,
     "metadata": {
      "tags": []
     },
     "output_type": "execute_result"
    }
   ],
   "source": [
    "tmp[0]"
   ]
  },
  {
   "cell_type": "code",
   "execution_count": 0,
   "metadata": {
    "colab": {},
    "colab_type": "code",
    "collapsed": true,
    "id": "_lGkuBuMdKs1"
   },
   "outputs": [],
   "source": [
    "frac = 0.80\n",
    "split = int(np.floor(len(D) * frac))\n",
    "\n",
    "dataset = copy.deepcopy(D)\n",
    "random.shuffle(dataset)\n",
    "\n",
    "train = dataset[:split]\n",
    "test = dataset[split:]\n",
    "\n",
    "_, X_train, y_train = zip(*train)\n",
    "_, X_test, y_test = zip(*test)\n",
    "\n",
    "# Reshape for CNN input\n",
    "X_train = np.array([x.reshape( (128, 128, 1) ) for x in X_train])\n",
    "X_test = np.array([x.reshape( (128, 128, 1) ) for x in X_test])\n",
    "\n",
    "# One-Hot encoding for classes\n",
    "y_train = np.array(keras.utils.to_categorical(y_train, 4))\n",
    "y_test = np.array(keras.utils.to_categorical(y_test, 4))"
   ]
  },
  {
   "cell_type": "code",
   "execution_count": 0,
   "metadata": {
    "colab": {},
    "colab_type": "code",
    "collapsed": true,
    "id": "oqSUJ0LVOL1T"
   },
   "outputs": [],
   "source": [
    "dataset = copy.deepcopy(D)\n",
    "\n",
    "train = dataset[:900]\n",
    "test = dataset[900:]\n",
    "random.shuffle(train)\n",
    "random.shuffle(test)\n",
    "\n",
    "_, X_train, y_train = zip(*train)\n",
    "_, X_test, y_test = zip(*test)\n",
    "\n",
    "# Reshape for CNN input\n",
    "X_train = np.array([x.reshape( (128, 128, 1) ) for x in X_train])\n",
    "X_test = np.array([x.reshape( (128, 128, 1) ) for x in X_test])\n",
    "\n",
    "# One-Hot encoding for classes\n",
    "y_train = np.array(keras.utils.to_categorical(y_train, 4))\n",
    "y_test = np.array(keras.utils.to_categorical(y_test, 4))"
   ]
  },
  {
   "cell_type": "code",
   "execution_count": 0,
   "metadata": {
    "colab": {},
    "colab_type": "code",
    "collapsed": true,
    "id": "LDBQlTtlH-iE"
   },
   "outputs": [],
   "source": [
    "random.shuffle(D_train)\n",
    "random.shuffle(D_test)\n",
    "\n",
    "_, X_train, y_train = zip(*D_train)\n",
    "_, X_test, y_test = zip(*D_test)\n",
    "\n",
    "# Reshape for CNN input\n",
    "X_train = np.array([x.reshape( (128, 128, 1) ) for x in X_train])\n",
    "X_test = np.array([x.reshape( (128, 128, 1) ) for x in X_test])\n",
    "\n",
    "# One-Hot encoding for classes\n",
    "y_train = np.array(keras.utils.to_categorical(y_train, 4))\n",
    "y_test = np.array(keras.utils.to_categorical(y_test, 4))"
   ]
  },
  {
   "cell_type": "markdown",
   "metadata": {
    "colab_type": "text",
    "id": "lxzjlday4T-i"
   },
   "source": [
    "Specity, compile, and evaluate model\n",
    "\n",
    "Model based on *Deep Convolutional Neural Networks and Data Augmentation for Environmental Sound Classification*\n",
    "\n",
    "> arXiv: https://arxiv.org/pdf/1608.04363.pdf\n",
    "\n",
    "Improvements:\n",
    "\n",
    "*   Modify model architecture, loss, and optimizer to improve model\n",
    "*   Assess model performance on a variety of measure appropriate for multinomial classification problem\n",
    "*   Compare model performance with different inputs: percussive only, harmonics only, both (current)\n",
    "\n",
    "\n"
   ]
  },
  {
   "cell_type": "code",
   "execution_count": 0,
   "metadata": {
    "colab": {},
    "colab_type": "code",
    "collapsed": true,
    "id": "wIQkfTn2dKs5"
   },
   "outputs": [],
   "source": [
    "model = Sequential()\n",
    "input_shape=(128, 128, 1)\n",
    "\n",
    "model.add(Conv2D(24, (5, 5), strides=(1, 1), input_shape=input_shape))\n",
    "model.add(MaxPooling2D((4, 2), strides=(4, 2)))\n",
    "model.add(Activation('sigmoid'))\n",
    "\n",
    "model.add(Conv2D(48, (5, 5), padding=\"valid\"))\n",
    "model.add(MaxPooling2D((4, 2), strides=(4, 2)))\n",
    "model.add(Activation('sigmoid'))\n",
    "\n",
    "model.add(Conv2D(48, (5, 5), padding=\"valid\"))\n",
    "model.add(Activation('sigmoid'))\n",
    "\n",
    "model.add(Flatten())\n",
    "model.add(Dropout(rate=0.5))\n",
    "\n",
    "model.add(Dense(64))\n",
    "model.add(Activation('sigmoid'))\n",
    "model.add(Dropout(rate=0.5))\n",
    "\n",
    "model.add(Dense(4))\n",
    "model.add(Activation('softmax'))"
   ]
  },
  {
   "cell_type": "code",
   "execution_count": 18,
   "metadata": {
    "colab": {
     "base_uri": "https://localhost:8080/",
     "height": 3560
    },
    "colab_type": "code",
    "executionInfo": {
     "elapsed": 324872,
     "status": "ok",
     "timestamp": 1542443216801,
     "user": {
      "displayName": "Akshay Sankar",
      "photoUrl": "https://lh5.googleusercontent.com/-BJmEmP3kWI0/AAAAAAAAAAI/AAAAAAAALes/v0fAGY35DD0/s64/photo.jpg",
      "userId": "02429858030549574156"
     },
     "user_tz": 300
    },
    "id": "H6X_adjIdKs9",
    "outputId": "80ce7fee-eae1-4271-8167-1e2b98273ff2"
   },
   "outputs": [
    {
     "name": "stdout",
     "output_type": "stream",
     "text": [
      "Train on 5400 samples, validate on 1680 samples\n",
      "Epoch 1/100\n",
      "5400/5400 [==============================] - 4s 711us/step - loss: 1.4300 - acc: 0.2565 - val_loss: 1.3995 - val_acc: 0.2143\n",
      "Epoch 2/100\n",
      "5400/5400 [==============================] - 3s 601us/step - loss: 1.3849 - acc: 0.2628 - val_loss: 1.3934 - val_acc: 0.2143\n",
      "Epoch 3/100\n",
      "5400/5400 [==============================] - 3s 595us/step - loss: 1.3854 - acc: 0.2646 - val_loss: 1.3938 - val_acc: 0.2143\n",
      "Epoch 4/100\n",
      "5400/5400 [==============================] - 3s 597us/step - loss: 1.3855 - acc: 0.2689 - val_loss: 1.3948 - val_acc: 0.2143\n",
      "Epoch 5/100\n",
      "5400/5400 [==============================] - 3s 601us/step - loss: 1.3855 - acc: 0.2670 - val_loss: 1.3932 - val_acc: 0.2143\n",
      "Epoch 6/100\n",
      "5400/5400 [==============================] - 3s 600us/step - loss: 1.3847 - acc: 0.2696 - val_loss: 1.3945 - val_acc: 0.2143\n",
      "Epoch 7/100\n",
      "5400/5400 [==============================] - 3s 603us/step - loss: 1.3843 - acc: 0.2707 - val_loss: 1.3952 - val_acc: 0.2143\n",
      "Epoch 8/100\n",
      "5400/5400 [==============================] - 3s 598us/step - loss: 1.3848 - acc: 0.2693 - val_loss: 1.3960 - val_acc: 0.2143\n",
      "Epoch 9/100\n",
      "5400/5400 [==============================] - 3s 598us/step - loss: 1.3846 - acc: 0.2635 - val_loss: 1.3952 - val_acc: 0.2143\n",
      "Epoch 10/100\n",
      "5400/5400 [==============================] - 3s 596us/step - loss: 1.3838 - acc: 0.2707 - val_loss: 1.3969 - val_acc: 0.2143\n",
      "Epoch 11/100\n",
      "5400/5400 [==============================] - 3s 599us/step - loss: 1.3832 - acc: 0.2722 - val_loss: 1.3995 - val_acc: 0.2143\n",
      "Epoch 12/100\n",
      "5400/5400 [==============================] - 3s 595us/step - loss: 1.3601 - acc: 0.2889 - val_loss: 1.4012 - val_acc: 0.2952\n",
      "Epoch 13/100\n",
      "5400/5400 [==============================] - 3s 593us/step - loss: 1.3450 - acc: 0.3257 - val_loss: 1.3971 - val_acc: 0.3048\n",
      "Epoch 14/100\n",
      "5400/5400 [==============================] - 3s 594us/step - loss: 1.3241 - acc: 0.3463 - val_loss: 1.4087 - val_acc: 0.2369\n",
      "Epoch 15/100\n",
      "5400/5400 [==============================] - 3s 594us/step - loss: 1.2963 - acc: 0.3800 - val_loss: 1.4369 - val_acc: 0.2226\n",
      "Epoch 16/100\n",
      "5400/5400 [==============================] - 3s 596us/step - loss: 1.2659 - acc: 0.3937 - val_loss: 1.4472 - val_acc: 0.2190\n",
      "Epoch 17/100\n",
      "5400/5400 [==============================] - 3s 597us/step - loss: 1.2421 - acc: 0.4157 - val_loss: 1.4835 - val_acc: 0.2524\n",
      "Epoch 18/100\n",
      "5400/5400 [==============================] - 3s 598us/step - loss: 1.1976 - acc: 0.4378 - val_loss: 1.5906 - val_acc: 0.2280\n",
      "Epoch 19/100\n",
      "5400/5400 [==============================] - 3s 592us/step - loss: 1.1690 - acc: 0.4609 - val_loss: 1.6357 - val_acc: 0.2411\n",
      "Epoch 20/100\n",
      "5400/5400 [==============================] - 3s 593us/step - loss: 1.1562 - acc: 0.4737 - val_loss: 1.5675 - val_acc: 0.2696\n",
      "Epoch 21/100\n",
      "5400/5400 [==============================] - 3s 593us/step - loss: 1.1154 - acc: 0.4922 - val_loss: 1.6501 - val_acc: 0.2655\n",
      "Epoch 22/100\n",
      "5400/5400 [==============================] - 3s 598us/step - loss: 1.0732 - acc: 0.5106 - val_loss: 1.7516 - val_acc: 0.2708\n",
      "Epoch 23/100\n",
      "5400/5400 [==============================] - 3s 600us/step - loss: 1.0536 - acc: 0.5220 - val_loss: 1.7849 - val_acc: 0.2577\n",
      "Epoch 24/100\n",
      "5400/5400 [==============================] - 3s 596us/step - loss: 1.0119 - acc: 0.5498 - val_loss: 1.6770 - val_acc: 0.2780\n",
      "Epoch 25/100\n",
      "5400/5400 [==============================] - 3s 594us/step - loss: 0.9786 - acc: 0.5744 - val_loss: 1.9608 - val_acc: 0.2726\n",
      "Epoch 26/100\n",
      "5400/5400 [==============================] - 3s 596us/step - loss: 0.9631 - acc: 0.5807 - val_loss: 1.9569 - val_acc: 0.2732\n",
      "Epoch 27/100\n",
      "5400/5400 [==============================] - 3s 600us/step - loss: 0.9481 - acc: 0.5915 - val_loss: 2.0471 - val_acc: 0.2607\n",
      "Epoch 28/100\n",
      "5400/5400 [==============================] - 3s 598us/step - loss: 0.9164 - acc: 0.5972 - val_loss: 2.0444 - val_acc: 0.2661\n",
      "Epoch 29/100\n",
      "5400/5400 [==============================] - 3s 596us/step - loss: 0.9048 - acc: 0.6065 - val_loss: 1.9160 - val_acc: 0.2649\n",
      "Epoch 30/100\n",
      "5400/5400 [==============================] - 3s 594us/step - loss: 0.8781 - acc: 0.6213 - val_loss: 1.9933 - val_acc: 0.2786\n",
      "Epoch 31/100\n",
      "5400/5400 [==============================] - 3s 597us/step - loss: 0.8652 - acc: 0.6280 - val_loss: 2.0004 - val_acc: 0.2661\n",
      "Epoch 32/100\n",
      "5400/5400 [==============================] - 3s 596us/step - loss: 0.8414 - acc: 0.6420 - val_loss: 2.2271 - val_acc: 0.2542\n",
      "Epoch 33/100\n",
      "5400/5400 [==============================] - 3s 595us/step - loss: 0.8146 - acc: 0.6506 - val_loss: 2.1431 - val_acc: 0.2911\n",
      "Epoch 34/100\n",
      "5400/5400 [==============================] - 3s 597us/step - loss: 0.7966 - acc: 0.6674 - val_loss: 2.1754 - val_acc: 0.2786\n",
      "Epoch 35/100\n",
      "5400/5400 [==============================] - 3s 598us/step - loss: 0.7739 - acc: 0.6733 - val_loss: 2.1652 - val_acc: 0.2732\n",
      "Epoch 36/100\n",
      "5400/5400 [==============================] - 3s 593us/step - loss: 0.7492 - acc: 0.6826 - val_loss: 2.1234 - val_acc: 0.2893\n",
      "Epoch 37/100\n",
      "5400/5400 [==============================] - 3s 596us/step - loss: 0.7221 - acc: 0.6972 - val_loss: 2.3020 - val_acc: 0.2804\n",
      "Epoch 38/100\n",
      "5400/5400 [==============================] - 3s 593us/step - loss: 0.7180 - acc: 0.6989 - val_loss: 2.3217 - val_acc: 0.2667\n",
      "Epoch 39/100\n",
      "5400/5400 [==============================] - 3s 593us/step - loss: 0.6928 - acc: 0.7130 - val_loss: 2.4458 - val_acc: 0.2792\n",
      "Epoch 40/100\n",
      "5400/5400 [==============================] - 3s 591us/step - loss: 0.6728 - acc: 0.7204 - val_loss: 2.3306 - val_acc: 0.2929\n",
      "Epoch 41/100\n",
      "5400/5400 [==============================] - 3s 598us/step - loss: 0.6576 - acc: 0.7315 - val_loss: 2.3488 - val_acc: 0.2976\n",
      "Epoch 42/100\n",
      "5400/5400 [==============================] - 3s 598us/step - loss: 0.6464 - acc: 0.7328 - val_loss: 2.4784 - val_acc: 0.2762\n",
      "Epoch 43/100\n",
      "5400/5400 [==============================] - 3s 597us/step - loss: 0.6189 - acc: 0.7531 - val_loss: 2.5439 - val_acc: 0.2887\n",
      "Epoch 44/100\n",
      "5400/5400 [==============================] - 3s 591us/step - loss: 0.5871 - acc: 0.7648 - val_loss: 2.5943 - val_acc: 0.2875\n",
      "Epoch 45/100\n",
      "5400/5400 [==============================] - 3s 596us/step - loss: 0.5984 - acc: 0.7617 - val_loss: 2.5341 - val_acc: 0.2887\n",
      "Epoch 46/100\n",
      "5400/5400 [==============================] - 3s 596us/step - loss: 0.5625 - acc: 0.7731 - val_loss: 2.4862 - val_acc: 0.3065\n",
      "Epoch 47/100\n",
      "5400/5400 [==============================] - 3s 597us/step - loss: 0.5506 - acc: 0.7828 - val_loss: 2.6851 - val_acc: 0.2970\n",
      "Epoch 48/100\n",
      "5400/5400 [==============================] - 3s 596us/step - loss: 0.5433 - acc: 0.7876 - val_loss: 2.8166 - val_acc: 0.3179\n",
      "Epoch 49/100\n",
      "5400/5400 [==============================] - 3s 600us/step - loss: 0.5288 - acc: 0.7907 - val_loss: 2.5278 - val_acc: 0.3024\n",
      "Epoch 50/100\n",
      "5400/5400 [==============================] - 3s 603us/step - loss: 0.5054 - acc: 0.8054 - val_loss: 2.9313 - val_acc: 0.2821\n",
      "Epoch 51/100\n",
      "5400/5400 [==============================] - 3s 599us/step - loss: 0.5076 - acc: 0.8039 - val_loss: 2.8534 - val_acc: 0.3220\n",
      "Epoch 52/100\n",
      "5400/5400 [==============================] - 3s 601us/step - loss: 0.4771 - acc: 0.8235 - val_loss: 2.8121 - val_acc: 0.3196\n",
      "Epoch 53/100\n",
      "5400/5400 [==============================] - 3s 598us/step - loss: 0.4653 - acc: 0.8172 - val_loss: 2.8919 - val_acc: 0.3089\n",
      "Epoch 54/100\n",
      "5400/5400 [==============================] - 3s 596us/step - loss: 0.4452 - acc: 0.8296 - val_loss: 2.8191 - val_acc: 0.3268\n",
      "Epoch 55/100\n",
      "5400/5400 [==============================] - 3s 599us/step - loss: 0.4397 - acc: 0.8335 - val_loss: 2.9664 - val_acc: 0.3065\n",
      "Epoch 56/100\n",
      "5400/5400 [==============================] - 3s 598us/step - loss: 0.4237 - acc: 0.8369 - val_loss: 3.1080 - val_acc: 0.3161\n",
      "Epoch 57/100\n",
      "5400/5400 [==============================] - 3s 600us/step - loss: 0.4231 - acc: 0.8409 - val_loss: 3.0770 - val_acc: 0.3101\n",
      "Epoch 58/100\n",
      "5400/5400 [==============================] - 3s 599us/step - loss: 0.4014 - acc: 0.8452 - val_loss: 3.1592 - val_acc: 0.3119\n",
      "Epoch 59/100\n",
      "5400/5400 [==============================] - 3s 600us/step - loss: 0.3881 - acc: 0.8539 - val_loss: 3.0476 - val_acc: 0.3238\n",
      "Epoch 60/100\n",
      "5400/5400 [==============================] - 3s 598us/step - loss: 0.3797 - acc: 0.8570 - val_loss: 3.0294 - val_acc: 0.3268\n",
      "Epoch 61/100\n",
      "5400/5400 [==============================] - 3s 601us/step - loss: 0.3572 - acc: 0.8661 - val_loss: 3.2100 - val_acc: 0.3262\n",
      "Epoch 62/100\n",
      "5400/5400 [==============================] - 3s 600us/step - loss: 0.3540 - acc: 0.8722 - val_loss: 3.2342 - val_acc: 0.3131\n",
      "Epoch 63/100\n",
      "5400/5400 [==============================] - 3s 596us/step - loss: 0.3474 - acc: 0.8722 - val_loss: 3.1221 - val_acc: 0.3542\n",
      "Epoch 64/100\n",
      "5400/5400 [==============================] - 3s 601us/step - loss: 0.3417 - acc: 0.8752 - val_loss: 3.3023 - val_acc: 0.3351\n",
      "Epoch 65/100\n",
      "5400/5400 [==============================] - 3s 600us/step - loss: 0.3412 - acc: 0.8693 - val_loss: 3.2360 - val_acc: 0.3190\n",
      "Epoch 66/100\n",
      "5400/5400 [==============================] - 3s 599us/step - loss: 0.3067 - acc: 0.8889 - val_loss: 3.4314 - val_acc: 0.3262\n",
      "Epoch 67/100\n",
      "5400/5400 [==============================] - 3s 604us/step - loss: 0.3141 - acc: 0.8846 - val_loss: 3.4064 - val_acc: 0.3167\n",
      "Epoch 68/100\n",
      "5400/5400 [==============================] - 3s 597us/step - loss: 0.3011 - acc: 0.8885 - val_loss: 3.4088 - val_acc: 0.3298\n",
      "Epoch 69/100\n",
      "5400/5400 [==============================] - 3s 598us/step - loss: 0.2952 - acc: 0.8920 - val_loss: 3.5990 - val_acc: 0.3131\n",
      "Epoch 70/100\n",
      "5400/5400 [==============================] - 3s 599us/step - loss: 0.2844 - acc: 0.8981 - val_loss: 3.4299 - val_acc: 0.3357\n",
      "Epoch 71/100\n",
      "5400/5400 [==============================] - 3s 595us/step - loss: 0.2774 - acc: 0.8993 - val_loss: 3.4912 - val_acc: 0.3310\n",
      "Epoch 72/100\n",
      "5400/5400 [==============================] - 3s 595us/step - loss: 0.2713 - acc: 0.9013 - val_loss: 3.7814 - val_acc: 0.3649\n",
      "Epoch 73/100\n",
      "5400/5400 [==============================] - 3s 596us/step - loss: 0.2501 - acc: 0.9078 - val_loss: 3.5106 - val_acc: 0.3298\n",
      "Epoch 74/100\n",
      "5400/5400 [==============================] - 3s 598us/step - loss: 0.2457 - acc: 0.9137 - val_loss: 3.5941 - val_acc: 0.3440\n",
      "Epoch 75/100\n",
      "5400/5400 [==============================] - 3s 599us/step - loss: 0.2458 - acc: 0.9109 - val_loss: 3.7064 - val_acc: 0.3333\n",
      "Epoch 76/100\n",
      "5400/5400 [==============================] - 3s 597us/step - loss: 0.2284 - acc: 0.9163 - val_loss: 3.8494 - val_acc: 0.3381\n",
      "Epoch 77/100\n",
      "5400/5400 [==============================] - 3s 599us/step - loss: 0.2328 - acc: 0.9202 - val_loss: 3.8299 - val_acc: 0.3440\n",
      "Epoch 78/100\n",
      "5400/5400 [==============================] - 3s 602us/step - loss: 0.2185 - acc: 0.9213 - val_loss: 3.9630 - val_acc: 0.3452\n",
      "Epoch 79/100\n",
      "5400/5400 [==============================] - 3s 598us/step - loss: 0.2321 - acc: 0.9183 - val_loss: 3.9782 - val_acc: 0.3411\n",
      "Epoch 80/100\n",
      "5400/5400 [==============================] - 3s 598us/step - loss: 0.2189 - acc: 0.9267 - val_loss: 3.7687 - val_acc: 0.3554\n",
      "Epoch 81/100\n",
      "5400/5400 [==============================] - 3s 598us/step - loss: 0.2028 - acc: 0.9263 - val_loss: 4.1654 - val_acc: 0.3363\n",
      "Epoch 82/100\n",
      "5400/5400 [==============================] - 3s 601us/step - loss: 0.2141 - acc: 0.9226 - val_loss: 3.9016 - val_acc: 0.3351\n",
      "Epoch 83/100\n",
      "5400/5400 [==============================] - 3s 599us/step - loss: 0.1902 - acc: 0.9293 - val_loss: 4.1208 - val_acc: 0.3280\n",
      "Epoch 84/100\n",
      "5400/5400 [==============================] - 3s 601us/step - loss: 0.2041 - acc: 0.9252 - val_loss: 4.1718 - val_acc: 0.3339\n",
      "Epoch 85/100\n",
      "5400/5400 [==============================] - 3s 599us/step - loss: 0.1874 - acc: 0.9311 - val_loss: 4.0375 - val_acc: 0.3387\n",
      "Epoch 86/100\n",
      "5400/5400 [==============================] - 3s 601us/step - loss: 0.1855 - acc: 0.9322 - val_loss: 4.1936 - val_acc: 0.3393\n",
      "Epoch 87/100\n",
      "5400/5400 [==============================] - 3s 599us/step - loss: 0.1876 - acc: 0.9304 - val_loss: 4.0416 - val_acc: 0.3548\n",
      "Epoch 88/100\n",
      "5400/5400 [==============================] - 3s 600us/step - loss: 0.1795 - acc: 0.9352 - val_loss: 4.1675 - val_acc: 0.3315\n",
      "Epoch 89/100\n",
      "5400/5400 [==============================] - 3s 595us/step - loss: 0.1685 - acc: 0.9374 - val_loss: 4.4525 - val_acc: 0.3381\n",
      "Epoch 90/100\n",
      "5400/5400 [==============================] - 3s 596us/step - loss: 0.1714 - acc: 0.9431 - val_loss: 4.2856 - val_acc: 0.3435\n",
      "Epoch 91/100\n",
      "5400/5400 [==============================] - 3s 598us/step - loss: 0.1487 - acc: 0.9496 - val_loss: 4.6861 - val_acc: 0.3095\n",
      "Epoch 92/100\n",
      "5400/5400 [==============================] - 3s 599us/step - loss: 0.1618 - acc: 0.9433 - val_loss: 4.3830 - val_acc: 0.3417\n",
      "Epoch 93/100\n",
      "5400/5400 [==============================] - 3s 595us/step - loss: 0.1500 - acc: 0.9487 - val_loss: 4.3980 - val_acc: 0.3405\n",
      "Epoch 94/100\n",
      "5400/5400 [==============================] - 3s 601us/step - loss: 0.1518 - acc: 0.9463 - val_loss: 4.3372 - val_acc: 0.3613\n",
      "Epoch 95/100\n",
      "5400/5400 [==============================] - 3s 598us/step - loss: 0.1518 - acc: 0.9452 - val_loss: 4.4563 - val_acc: 0.3524\n",
      "Epoch 96/100\n",
      "5400/5400 [==============================] - 3s 599us/step - loss: 0.1429 - acc: 0.9507 - val_loss: 4.2788 - val_acc: 0.3714\n",
      "Epoch 97/100\n",
      "5400/5400 [==============================] - 3s 596us/step - loss: 0.1344 - acc: 0.9500 - val_loss: 4.8211 - val_acc: 0.3339\n",
      "Epoch 98/100\n",
      "5400/5400 [==============================] - 3s 600us/step - loss: 0.1384 - acc: 0.9522 - val_loss: 4.7072 - val_acc: 0.3613\n",
      "Epoch 99/100\n",
      "5400/5400 [==============================] - 3s 595us/step - loss: 0.1305 - acc: 0.9543 - val_loss: 4.4824 - val_acc: 0.3518\n",
      "Epoch 100/100\n",
      "5400/5400 [==============================] - 3s 601us/step - loss: 0.1399 - acc: 0.9539 - val_loss: 4.8902 - val_acc: 0.3435\n",
      "1680/1680 [==============================] - 1s 298us/step\n",
      "Test loss: 4.890219497680664\n",
      "Test accuracy: 0.34345238095238095\n"
     ]
    }
   ],
   "source": [
    "model.compile(\n",
    "\toptimizer=\"Adam\",\n",
    "\tloss=\"categorical_crossentropy\",\n",
    "\tmetrics=['accuracy'])\n",
    "\n",
    "model.fit(\n",
    "\tx=X_train, \n",
    "\ty=y_train,\n",
    "    epochs=100,\n",
    "    batch_size=128,\n",
    "    validation_data= (X_test, y_test))\n",
    "\n",
    "score = model.evaluate(\n",
    "\tx=X_test,\n",
    "\ty=y_test)\n",
    "\n",
    "print('Test loss:', score[0])\n",
    "print('Test accuracy:', score[1])"
   ]
  },
  {
   "cell_type": "markdown",
   "metadata": {
    "colab_type": "text",
    "id": "7Mw-8GCx67la"
   },
   "source": [
    "We can also augment data as show in YT video to imrpove model performance... (shown below for Ajay's dataset)"
   ]
  },
  {
   "cell_type": "code",
   "execution_count": 0,
   "metadata": {
    "colab": {},
    "colab_type": "code",
    "collapsed": true,
    "id": "5M22NojmxphX"
   },
   "outputs": [],
   "source": [
    "from keras.applications.inception_v3 import InceptionV3, preprocess_input\n",
    "import cv2\n",
    "\n",
    "D_train_v3 = []\n",
    "for x in D_train:\n",
    "  tmp_v3 = cv2.merge((x[1],x[1],x[1]))\n",
    "  tmp_v3 = preprocess_input(tmp_v3)\n",
    "  D_train_v3.append( (x[0], tmp_v3, x[2]) )\n",
    "\n",
    "D_test_v3 = []\n",
    "for x in D_test:\n",
    "  tmp_v3 = cv2.merge((x[1],x[1],x[1]))\n",
    "  tmp_v3 = preprocess_input(tmp_v3)\n",
    "  D_test_v3.append( (x[0], tmp_v3, x[2]) )\n"
   ]
  },
  {
   "cell_type": "code",
   "execution_count": 1,
   "metadata": {
    "colab": {
     "base_uri": "https://localhost:8080/",
     "height": 236
    },
    "colab_type": "code",
    "executionInfo": {
     "elapsed": 1197,
     "status": "error",
     "timestamp": 1542696752067,
     "user": {
      "displayName": "Akshay Sankar",
      "photoUrl": "https://lh5.googleusercontent.com/-BJmEmP3kWI0/AAAAAAAAAAI/AAAAAAAALes/v0fAGY35DD0/s64/photo.jpg",
      "userId": "02429858030549574156"
     },
     "user_tz": 300
    },
    "id": "p5AlTLL616B6",
    "outputId": "d6440b5b-f6c3-4eca-89d3-44b27976dced"
   },
   "outputs": [
    {
     "ename": "NameError",
     "evalue": "ignored",
     "output_type": "error",
     "traceback": [
      "\u001b[0;31m---------------------------------------------------------------------------\u001b[0m",
      "\u001b[0;31mNameError\u001b[0m                                 Traceback (most recent call last)",
      "\u001b[0;32m<ipython-input-1-8c16e318559b>\u001b[0m in \u001b[0;36m<module>\u001b[0;34m()\u001b[0m\n\u001b[0;32m----> 1\u001b[0;31m \u001b[0mrandom\u001b[0m\u001b[0;34m.\u001b[0m\u001b[0mshuffle\u001b[0m\u001b[0;34m(\u001b[0m\u001b[0mD_train_v3\u001b[0m\u001b[0;34m)\u001b[0m\u001b[0;34m\u001b[0m\u001b[0m\n\u001b[0m\u001b[1;32m      2\u001b[0m \u001b[0mrandom\u001b[0m\u001b[0;34m.\u001b[0m\u001b[0mshuffle\u001b[0m\u001b[0;34m(\u001b[0m\u001b[0mD_test_v3\u001b[0m\u001b[0;34m)\u001b[0m\u001b[0;34m\u001b[0m\u001b[0m\n\u001b[1;32m      3\u001b[0m \u001b[0;34m\u001b[0m\u001b[0m\n\u001b[1;32m      4\u001b[0m \u001b[0m_\u001b[0m\u001b[0;34m,\u001b[0m \u001b[0mX_train\u001b[0m\u001b[0;34m,\u001b[0m \u001b[0my_train\u001b[0m \u001b[0;34m=\u001b[0m \u001b[0mzip\u001b[0m\u001b[0;34m(\u001b[0m\u001b[0;34m*\u001b[0m\u001b[0mD_train_v3\u001b[0m\u001b[0;34m)\u001b[0m\u001b[0;34m\u001b[0m\u001b[0m\n\u001b[1;32m      5\u001b[0m \u001b[0m_\u001b[0m\u001b[0;34m,\u001b[0m \u001b[0mX_test\u001b[0m\u001b[0;34m,\u001b[0m \u001b[0my_test\u001b[0m \u001b[0;34m=\u001b[0m \u001b[0mzip\u001b[0m\u001b[0;34m(\u001b[0m\u001b[0;34m*\u001b[0m\u001b[0mD_test_v3\u001b[0m\u001b[0;34m)\u001b[0m\u001b[0;34m\u001b[0m\u001b[0m\n",
      "\u001b[0;31mNameError\u001b[0m: name 'random' is not defined"
     ]
    }
   ],
   "source": [
    "random.shuffle(D_train_v3)\n",
    "random.shuffle(D_test_v3)\n",
    "\n",
    "_, X_train, y_train = zip(*D_train_v3)\n",
    "_, X_test, y_test = zip(*D_test_v3)\n",
    "\n",
    "\n",
    "# Reshape for CNN input\n",
    "X_train = np.array(X_train)\n",
    "X_test = np.array(X_test)\n",
    "\n",
    "# One-Hot encoding for classes\n",
    "y_train = np.array(keras.utils.to_categorical(y_train, 4))\n",
    "y_test = np.array(keras.utils.to_categorical(y_test, 4))"
   ]
  },
  {
   "cell_type": "code",
   "execution_count": 48,
   "metadata": {
    "colab": {
     "base_uri": "https://localhost:8080/",
     "height": 920
    },
    "colab_type": "code",
    "executionInfo": {
     "elapsed": 873032,
     "status": "ok",
     "timestamp": 1542445630426,
     "user": {
      "displayName": "Akshay Sankar",
      "photoUrl": "https://lh5.googleusercontent.com/-BJmEmP3kWI0/AAAAAAAAAAI/AAAAAAAALes/v0fAGY35DD0/s64/photo.jpg",
      "userId": "02429858030549574156"
     },
     "user_tz": 300
    },
    "id": "A3lKqyZp2j7b",
    "outputId": "1b1269f5-3599-4c61-ce2d-dbde27a37aac"
   },
   "outputs": [
    {
     "name": "stdout",
     "output_type": "stream",
     "text": [
      "Train on 5400 samples, validate on 1680 samples\n",
      "Epoch 1/25\n",
      "5400/5400 [==============================] - 51s 9ms/step - loss: 1.4600 - acc: 0.2630 - val_loss: 1.4651 - val_acc: 0.2411\n",
      "Epoch 2/25\n",
      "5400/5400 [==============================] - 33s 6ms/step - loss: 1.3873 - acc: 0.3089 - val_loss: 1.4987 - val_acc: 0.2304\n",
      "Epoch 3/25\n",
      "5400/5400 [==============================] - 33s 6ms/step - loss: 1.3472 - acc: 0.3367 - val_loss: 1.4711 - val_acc: 0.2571\n",
      "Epoch 4/25\n",
      "5400/5400 [==============================] - 33s 6ms/step - loss: 1.3086 - acc: 0.3676 - val_loss: 1.4628 - val_acc: 0.2232\n",
      "Epoch 5/25\n",
      "5400/5400 [==============================] - 33s 6ms/step - loss: 1.2612 - acc: 0.4094 - val_loss: 1.4515 - val_acc: 0.2500\n",
      "Epoch 6/25\n",
      "5400/5400 [==============================] - 33s 6ms/step - loss: 1.2311 - acc: 0.4439 - val_loss: 1.5782 - val_acc: 0.2179\n",
      "Epoch 7/25\n",
      "5400/5400 [==============================] - 33s 6ms/step - loss: 1.1878 - acc: 0.4861 - val_loss: 1.4977 - val_acc: 0.2387\n",
      "Epoch 8/25\n",
      "5400/5400 [==============================] - 33s 6ms/step - loss: 1.1461 - acc: 0.5076 - val_loss: 1.4778 - val_acc: 0.2613\n",
      "Epoch 9/25\n",
      "5400/5400 [==============================] - 33s 6ms/step - loss: 1.1062 - acc: 0.5367 - val_loss: 1.5113 - val_acc: 0.2411\n",
      "Epoch 10/25\n",
      "5400/5400 [==============================] - 33s 6ms/step - loss: 1.0517 - acc: 0.5974 - val_loss: 1.5459 - val_acc: 0.2625\n",
      "Epoch 11/25\n",
      "5400/5400 [==============================] - 33s 6ms/step - loss: 1.0062 - acc: 0.6257 - val_loss: 1.5850 - val_acc: 0.2548\n",
      "Epoch 12/25\n",
      "5400/5400 [==============================] - 33s 6ms/step - loss: 0.9750 - acc: 0.6398 - val_loss: 1.5888 - val_acc: 0.2583\n",
      "Epoch 13/25\n",
      "5400/5400 [==============================] - 33s 6ms/step - loss: 0.9482 - acc: 0.6619 - val_loss: 1.5736 - val_acc: 0.2637\n",
      "Epoch 14/25\n",
      "5400/5400 [==============================] - 33s 6ms/step - loss: 0.9111 - acc: 0.6748 - val_loss: 1.5932 - val_acc: 0.2595\n",
      "Epoch 15/25\n",
      "5400/5400 [==============================] - 33s 6ms/step - loss: 0.8726 - acc: 0.7006 - val_loss: 1.6255 - val_acc: 0.2530\n",
      "Epoch 16/25\n",
      "5400/5400 [==============================] - 33s 6ms/step - loss: 0.8432 - acc: 0.7104 - val_loss: 1.6930 - val_acc: 0.2542\n",
      "Epoch 17/25\n",
      "5400/5400 [==============================] - 33s 6ms/step - loss: 0.8160 - acc: 0.7281 - val_loss: 1.6856 - val_acc: 0.2405\n",
      "Epoch 18/25\n",
      "5400/5400 [==============================] - 33s 6ms/step - loss: 0.7873 - acc: 0.7367 - val_loss: 1.6523 - val_acc: 0.2589\n",
      "Epoch 19/25\n",
      "5400/5400 [==============================] - 33s 6ms/step - loss: 0.7318 - acc: 0.7676 - val_loss: 1.7250 - val_acc: 0.2494\n",
      "Epoch 20/25\n",
      "5400/5400 [==============================] - 33s 6ms/step - loss: 0.7070 - acc: 0.7776 - val_loss: 1.9104 - val_acc: 0.2512\n",
      "Epoch 21/25\n",
      "5400/5400 [==============================] - 33s 6ms/step - loss: 0.6770 - acc: 0.7917 - val_loss: 1.7675 - val_acc: 0.2613\n",
      "Epoch 22/25\n",
      "5400/5400 [==============================] - 33s 6ms/step - loss: 0.6689 - acc: 0.7854 - val_loss: 1.6813 - val_acc: 0.2946\n",
      "Epoch 23/25\n",
      "5400/5400 [==============================] - 33s 6ms/step - loss: 0.6122 - acc: 0.8198 - val_loss: 1.7733 - val_acc: 0.2655\n",
      "Epoch 24/25\n",
      "5400/5400 [==============================] - 33s 6ms/step - loss: 0.5852 - acc: 0.8269 - val_loss: 1.8053 - val_acc: 0.2923\n",
      "Epoch 25/25\n",
      "5400/5400 [==============================] - 33s 6ms/step - loss: 0.5584 - acc: 0.8387 - val_loss: 1.7739 - val_acc: 0.2786\n"
     ]
    },
    {
     "data": {
      "text/plain": [
       "<keras.callbacks.History at 0x7f07b9088940>"
      ]
     },
     "execution_count": 48,
     "metadata": {
      "tags": []
     },
     "output_type": "execute_result"
    }
   ],
   "source": [
    "from keras.layers import Input\n",
    "from keras.applications.inception_v3 import InceptionV3\n",
    "from keras.models import Model\n",
    "from keras.layers import Dense, GlobalAveragePooling2D\n",
    "from keras import backend as K\n",
    "\n",
    "\n",
    "# create the base pre-trained model\n",
    "base_model = InceptionV3(weights='imagenet', include_top=False)\n",
    "\n",
    "# add a global spatial average pooling layer\n",
    "x = base_model.output\n",
    "x = GlobalAveragePooling2D()(x)\n",
    "# let's add a fully-connected layer\n",
    "x = Dense(1024, activation='relu')(x)\n",
    "# and a logistic layer -- let's say we have 4 classes\n",
    "predictions = Dense(4, activation='softmax')(x)\n",
    "\n",
    "# this is the model we will train\n",
    "model = Model(inputs=base_model.input, outputs=predictions)\n",
    "\n",
    "\n",
    "for layer in model.layers:\n",
    "   layer.trainable = True\n",
    "\n",
    "# we use SGD with a low learning rate\n",
    "from keras.optimizers import SGD\n",
    "model.compile(optimizer=SGD(lr=0.0001, momentum=0.9), \n",
    "              loss='categorical_crossentropy',  metrics=['accuracy'])\n",
    "       \n",
    "# train the model on the new data for a few epochs\n",
    "#model.fit_generator(generator(x_train, y_train, 5), steps_per_epoch=16, epochs=20)\n",
    "\n",
    "model.fit(X_train, y_train,\n",
    "          batch_size=128,\n",
    "          epochs=25,\n",
    "          verbose=1,\n",
    "          validation_data=(X_test, y_test))"
   ]
  },
  {
   "cell_type": "markdown",
   "metadata": {
    "colab_type": "text",
    "id": "3BWq9mXodKuK"
   },
   "source": [
    "## Data Augmentation\n",
    "\n",
    "### 1. Vary Time"
   ]
  },
  {
   "cell_type": "code",
   "execution_count": 0,
   "metadata": {
    "colab": {},
    "colab_type": "code",
    "collapsed": true,
    "id": "kvWy8Xt8dKuL"
   },
   "outputs": [],
   "source": [
    "y, sr = librosa.load('code/UrbanSound8K/audio/fold1/14113-4-0-1.wav', duration=2.97)\n",
    "y_changed = librosa.effects.time_stretch(y, rate=0.81)\n",
    "librosa.output.write_wav('code/augmented/fold1/speed_81/14113-4-0-1.wav' ,y_changed, sr)"
   ]
  },
  {
   "cell_type": "code",
   "execution_count": 0,
   "metadata": {
    "colab": {},
    "colab_type": "code",
    "collapsed": true,
    "id": "wOfAi2sDdKuM",
    "scrolled": true
   },
   "outputs": [],
   "source": [
    "rate = 1.07 # replace with 0.81 and execute again\n",
    "\n",
    "for row in valid_data.itertuples():\n",
    "    y, sr = librosa.load('code/UrbanSound8K/audio/' + row.path)  \n",
    "    y_changed = librosa.effects.time_stretch(y, rate=rate)\n",
    "    librosa.output.write_wav('code/augmented/fold' + str(row.fold) + '/speed_' + str(int(rate*100)) + '/' + row.slice_file_name ,y_changed, sr)"
   ]
  },
  {
   "cell_type": "markdown",
   "metadata": {
    "colab_type": "text",
    "id": "HRhpstD4dKuP"
   },
   "source": [
    "### 2. Vary pitch"
   ]
  },
  {
   "cell_type": "code",
   "execution_count": 0,
   "metadata": {
    "colab": {},
    "colab_type": "code",
    "collapsed": true,
    "id": "bOBb2wqNdKuQ"
   },
   "outputs": [],
   "source": [
    "n_steps = 2 #-1, -2, 2, 1\n",
    "\n",
    "for row in valid_data.itertuples():\n",
    "    y, sr = librosa.load('code/UrbanSound8K/audio/' + row.path)  \n",
    "    y_changed = librosa.effects.pitch_shift(y, sr, n_steps=n_steps)\n",
    "    librosa.output.write_wav('code/augmented/fold' + str(row.fold) + '/ps1_' + str(int(n_steps)) + '/' + row.slice_file_name ,y_changed, sr)"
   ]
  },
  {
   "cell_type": "markdown",
   "metadata": {
    "colab_type": "text",
    "id": "_tcx32QUdKuR"
   },
   "source": [
    "### 3. Change Pitch (PS2)"
   ]
  },
  {
   "cell_type": "code",
   "execution_count": 0,
   "metadata": {
    "colab": {},
    "colab_type": "code",
    "collapsed": true,
    "id": "SQLFrciedKuT"
   },
   "outputs": [],
   "source": [
    "n_steps = 2.5 #-2.5, -3.5, 2.5, 3.5\n",
    "\n",
    "for row in valid_data.itertuples():\n",
    "    y, sr = librosa.load('code/UrbanSound8K/audio/' + row.path) \n",
    "    y_changed = librosa.effects.pitch_shift(y, sr, n_steps=n_steps)\n",
    "    librosa.output.write_wav('code/augmented/fold' + str(row.fold) + '/ps2_m' + str(int(n_steps*10)) + '/' + row.slice_file_name ,y_changed, sr)"
   ]
  },
  {
   "cell_type": "markdown",
   "metadata": {
    "colab_type": "text",
    "id": "PMS_BuitdKuX"
   },
   "source": [
    "Accidently put ps2_25 files in ps2_m25. "
   ]
  },
  {
   "cell_type": "code",
   "execution_count": 0,
   "metadata": {
    "colab": {},
    "colab_type": "code",
    "collapsed": true,
    "id": "CSEQjUXUdKuY"
   },
   "outputs": [],
   "source": [
    "len(D)"
   ]
  },
  {
   "cell_type": "markdown",
   "metadata": {
    "colab_type": "text",
    "id": "Ao61oFv-dKuc"
   },
   "source": [
    "The dataset consists of:\n",
    "- 1-7467 normal samples.\n",
    "- 7468-14934 samples Pitch modulated 2.5 semitones higher.\n",
    "- 14935-22401 samples Pitch modeulated 2 semitones higher.\n",
    "- 22402-29869 samples Slowed down to 0.81.\n",
    "- 29869-37310 samples speed up by 1.07\n",
    "\n",
    "Follow the same procedure for the normal data."
   ]
  },
  {
   "cell_type": "code",
   "execution_count": 0,
   "metadata": {
    "colab": {},
    "colab_type": "code",
    "collapsed": true,
    "id": "n_107esDdKud"
   },
   "outputs": [],
   "source": [
    "dataset = D\n",
    "random.shuffle(dataset)\n",
    "\n",
    "train = dataset[:35000]\n",
    "test = dataset[35000:]\n",
    "\n",
    "X_train, y_train = zip(*train)\n",
    "X_test, y_test = zip(*test)\n",
    "\n",
    "X_train = np.array([x.reshape( (128, 128, 1) ) for x in X_train])\n",
    "X_test = np.array([x.reshape( (128, 128, 1) ) for x in X_test])\n",
    "\n",
    "y_train = np.array(keras.utils.to_categorical(y_train, 10))\n",
    "y_test = np.array(keras.utils.to_categorical(y_test, 10))"
   ]
  },
  {
   "cell_type": "code",
   "execution_count": 0,
   "metadata": {
    "colab": {},
    "colab_type": "code",
    "collapsed": true,
    "id": "GnnOFen3dKuj"
   },
   "outputs": [],
   "source": [
    "model = Sequential()\n",
    "input_shape=(128, 128, 1)\n",
    "\n",
    "model.add(Conv2D(24, (5, 5), strides=(1, 1), input_shape=input_shape))\n",
    "model.add(MaxPooling2D((4, 2), strides=(4, 2)))\n",
    "model.add(Activation('relu'))\n",
    "\n",
    "model.add(Conv2D(48, (5, 5), padding=\"valid\"))\n",
    "model.add(MaxPooling2D((4, 2), strides=(4, 2)))\n",
    "model.add(Activation('relu'))\n",
    "\n",
    "model.add(Conv2D(48, (5, 5), padding=\"valid\"))\n",
    "model.add(Activation('relu'))\n",
    "\n",
    "model.add(Flatten())\n",
    "model.add(Dropout(rate=0.5))\n",
    "\n",
    "model.add(Dense(64))\n",
    "model.add(Activation('relu'))\n",
    "model.add(Dropout(rate=0.5))\n",
    "\n",
    "model.add(Dense(10))\n",
    "model.add(Activation('softmax'))"
   ]
  },
  {
   "cell_type": "code",
   "execution_count": 0,
   "metadata": {
    "colab": {},
    "colab_type": "code",
    "collapsed": true,
    "id": "1fc0y7YWdKum"
   },
   "outputs": [],
   "source": [
    "model.compile(\n",
    "\toptimizer=\"Adam\",\n",
    "\tloss=\"categorical_crossentropy\",\n",
    "\tmetrics=['accuracy'])\n",
    "\n",
    "model.fit(\n",
    "\tx=X_train, \n",
    "\ty=y_train,\n",
    "    epochs=12,\n",
    "    batch_size=128,\n",
    "    validation_data= (X_test, y_test))\n",
    "\n",
    "score = model.evaluate(\n",
    "\tx=X_test,\n",
    "\ty=y_test)\n",
    "\n",
    "print('Test loss:', score[0])\n",
    "print('Test accuracy:', score[1])"
   ]
  },
  {
   "cell_type": "markdown",
   "metadata": {
    "colab_type": "text",
    "id": "4A_YWGiVdKuq"
   },
   "source": [
    "With data augmentation, we get upto $82\\%$. "
   ]
  }
 ],
 "metadata": {
  "accelerator": "GPU",
  "colab": {
   "name": "Tala Classification w/ CNNs.ipynb",
   "provenance": [],
   "toc_visible": true,
   "version": "0.3.2"
  },
  "kernelspec": {
   "display_name": "Python 3",
   "language": "python",
   "name": "python3"
  },
  "language_info": {
   "codemirror_mode": {
    "name": "ipython",
    "version": 3
   },
   "file_extension": ".py",
   "mimetype": "text/x-python",
   "name": "python",
   "nbconvert_exporter": "python",
   "pygments_lexer": "ipython3",
   "version": "3.5.4"
  }
 },
 "nbformat": 4,
 "nbformat_minor": 1
}
