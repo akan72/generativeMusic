{
 "cells": [
  {
   "cell_type": "code",
   "execution_count": 1,
   "metadata": {},
   "outputs": [],
   "source": [
    "import tensorflow.keras\n",
    "from tensorflow.keras.layers import Activation, Dense, Dropout, Conv2D, \\\n",
    "                         Flatten, MaxPooling2D\n",
    "from tensorflow.keras.models import Sequential\n",
    "import librosa\n",
    "import librosa.display\n",
    "import numpy as np\n",
    "import pickle\n",
    "import random\n",
    "import glob\n",
    "import re\n",
    "from sklearn.preprocessing import LabelEncoder"
   ]
  },
  {
   "cell_type": "markdown",
   "metadata": {},
   "source": [
    "# Data Preprocessing \n",
    "Extract song names and corresponding meters\n",
    "\n",
    "Encode song meters to integers for classifier\n",
    "\n",
    "**model and preprocessing code largely based on:**\n",
    "*   Code Emporium on YouTube: *Sound Play with Convolution Neural Networks*\n",
    "*   Code Emporium's (Ajay Halthor) code on GitHub: *audio-classifier-convNet*\n",
    "*   arXiv paper for model specification: https://arxiv.org/pdf/1608.04363.pdf (by *Justin Salamon and Juan Pablo Bello at MARL/CUSP at NYU*)"
   ]
  },
  {
   "cell_type": "code",
   "execution_count": 2,
   "metadata": {},
   "outputs": [
    {
     "name": "stdout",
     "output_type": "stream",
     "text": [
      "C:\\Users\\lexokan\\Dropbox\\R and Python\\generativeMusic\\data\\audio\n",
      "['8/4', '3/4', '7/8', '5/8', '8/4'] [3 0 2 1 3]\n",
      "\n",
      " ['01_10003_1-04_Shri_Visvanatham', '01_11001_3_Sankari_Neeve', '01_12001_8_Krishna_Nee_Begane', '01_13001_2-02_Hecharikaga', '02_10004_1_Vathapi']\n"
     ]
    }
   ],
   "source": [
    "%cd ../data/audio\n",
    "\n",
    "# Extract song names from .wav files \n",
    "songs = [re.search('.+?(?=\\.wav)', x).group(0)\n",
    "              for x in glob.iglob('*.wav')]\n",
    "\n",
    "# Extract song meter from the annotations directory \n",
    "meter = []\n",
    "for song in songs:\n",
    "    with open('../annotations/meter/' + song + '.meter', 'r') as file:\n",
    "        meter.append(file.readline())\n",
    "\n",
    "# Encode song meter (taala) as an integer \n",
    "le = LabelEncoder()\n",
    "meter_enc = le.fit_transform(meter)\n",
    "\n",
    "print(meter[:5], meter_enc[:5])\n",
    "print(\"\\n\", songs[:5])"
   ]
  },
  {
   "cell_type": "markdown",
   "metadata": {},
   "source": [
    "Create dataset as list of tuples -- (song name, melspectrogram array, meter encoding)\n",
    "\n",
    "Created random melspec snapshots of ~3s b/w 10s and 80s of each song\n",
    "\n",
    "\\# of random melspec snapshots (30) affects total sample size = # snapshots * # songs\n",
    "\n",
    "Takes long time (and memory!) to build dataset --> bottle neck of script\n",
    "\n",
    "Improvements:\n",
    "\n",
    "*   Create generator to feed in batches of training & validation data in real-tim\n",
    "*   Preprocess data in a multicore manner"
   ]
  },
  {
   "cell_type": "code",
   "execution_count": 11,
   "metadata": {},
   "outputs": [],
   "source": [
    "D = [] # Dataset\n",
    "\n",
    "for i, song in enumerate(songs):\n",
    "    for j in range(10):\n",
    "        y, sr = librosa.load(song + '.wav', \n",
    "                             offset = np.random.randint(10, 80),\n",
    "                             duration=2.97)  \n",
    "        ps = librosa.feature.melspectrogram(y=y, sr=sr)\n",
    "        if ps.shape != (128, 128): continue\n",
    "        D.append( (song, ps, meter_enc[i]) )\n",
    "        \n"
   ]
  },
  {
   "cell_type": "code",
   "execution_count": 12,
   "metadata": {},
   "outputs": [],
   "source": [
    "with open('../temp/dataset1.pkl', 'wb') as f:\n",
    "    pickle.dump(D[:600], f)\n",
    "    \n",
    "with open('../temp/dataset2.pkl', 'wb') as f:\n",
    "    pickle.dump(D[600:], f)"
   ]
  }
 ],
 "metadata": {
  "kernelspec": {
   "display_name": "Python 3",
   "language": "python",
   "name": "python3"
  },
  "language_info": {
   "codemirror_mode": {
    "name": "ipython",
    "version": 3
   },
   "file_extension": ".py",
   "mimetype": "text/x-python",
   "name": "python",
   "nbconvert_exporter": "python",
   "pygments_lexer": "ipython3",
   "version": "3.6.6"
  }
 },
 "nbformat": 4,
 "nbformat_minor": 2
}
