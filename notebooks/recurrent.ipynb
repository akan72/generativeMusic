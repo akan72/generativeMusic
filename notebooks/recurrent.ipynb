{
 "cells": [
  {
   "cell_type": "code",
   "execution_count": 82,
   "metadata": {},
   "outputs": [],
   "source": [
    "import graphviz\n",
    "import librosa\n",
    "import librosa.display\n",
    "import numpy as np\n",
    "import pickle\n",
    "import random\n",
    "import glob\n",
    "import re\n",
    "import matplotlib.pyplot as plt\n",
    "\n",
    "\n",
    "import tensorflow.keras\n",
    "from tensorflow.python.keras import Sequential\n",
    "from tensorflow.keras.optimizers import RMSprop, Adam, Adagrad\n",
    "from tensorflow.keras.layers import Activation, Dense, Dropout, Flatten\n",
    "from tensorflow.keras.layers import LSTM, GRU\n",
    "from tensorflow.keras.utils import plot_model\n",
    "from sklearn.preprocessing import LabelEncoder\n",
    "\n",
    "%matplotlib inline"
   ]
  },
  {
   "cell_type": "markdown",
   "metadata": {},
   "source": [
    "### TODO: Talk about why 3 second time slots\n",
    "### TODO: Data augmentation?\n",
    "### TODO: Batch sizes?\n",
    "### TODO: Softmax at the end\n",
    "\n",
    "# Citations: \n",
    "\n",
    "Reference \n",
    "\n",
    "> Keras Blog: https://blog.keras.io/a-ten-minute-introduction-to-sequence-to-sequence-learning-in-keras.html\n",
    "\n",
    "> YerevaNN: https://yerevann.github.io/2016/06/26/combining-cnn-and-rnn-for-spoken-language-identification/\n",
    "- 1x{500, 250, 100) GRU cells atop each input layer, fully connected at the end \n",
    "- Combine CNNs and RNNs \n",
    "- Do not perform subsampling \n",
    "\n",
    "> Audio Scene Classification with Deep Recurrent Neural Networks: https://arxiv.org/pdf/1703.04770\n",
    "- Use Mel Frequency Cepstral Coefficients (MFCCs) as low-level feature vectors \n",
    "\n",
    "> Deep learning using EEG spectrograms for prognosis in idiopathic rapid eye movement behavior disorder (RBD): https://www.biorxiv.org/content/biorxiv/early/2018/01/17/240267.full.pdf\n",
    " - \"Our design philosophy has been to enable the network to find local features\n",
    "first and create larger views of data with some temporal (but not frequency)\n",
    "shift invariance via max-pooling\"\n",
    "- 3 stacked RNN layers (LSTM, LSTM, GRU) with 32 hidden units with dropout\n",
    "- USE AUC to measure classification performance\n",
    "\n",
    "> Stanford cs229: http://cs229.stanford.edu/proj2016/report/IrvinChartockHollander-RecurrentNeuralNetworkswithAttentionforGenreClassification-report.pdf \n",
    "- Use MFCCs with LSTM, and LSTM with attention\n",
    "- Multinomial logistic (softmax) regression\n",
    "- Droput (possibly .2) for regularization after each LSTM \n",
    "- Categorical cross-entropy loss\n",
    "- Implement gradient clipping\n",
    "\n",
    "> GRU Cells on Music Modeling: https://arxiv.org/abs/1412.3555\n",
    "- \"A recurrent neural network (RNN) is an extension of a conventional feedforward neural network,\n",
    "which is able to handle a variable-length sequence input. The RNN handles the variable-length\n",
    "sequence by having a recurrent hidden state whose activation at each time is dependent on that of\n",
    "the previous time.\"\n",
    "- Gated units (GRU & LSTM) superior to traditional units within RNNs for this task\n",
    "\n",
    "> Batch Normalization: https://arxiv.org/pdf/1502.03167.pdf\n",
    "- Higher learning rates, less careful about initilization, acts as a regularizer and may eliminate need for using dropout "
   ]
  },
  {
   "cell_type": "code",
   "execution_count": 2,
   "metadata": {},
   "outputs": [],
   "source": [
    "# Load in datasets and combine into one\n",
    "with open('../data/temp/dataset1.pkl', 'rb') as f:\n",
    "    df1 = pickle.load(f)\n",
    "    \n",
    "with open('../data/temp/dataset2.pkl', 'rb') as f:\n",
    "    df2 = pickle.load(f)\n",
    "\n",
    "df = df1 + df2"
   ]
  },
  {
   "cell_type": "code",
   "execution_count": 70,
   "metadata": {},
   "outputs": [],
   "source": [
    "frac = 0.80\n",
    "split = int(np.floor(len(df) * frac))\n",
    "random.shuffle(df)\n",
    "\n",
    "train = df[:split]\n",
    "test = df[split:]\n",
    "\n",
    "_, X_train, y_train = zip(*train)\n",
    "_, X_test, y_test = zip(*test)\n",
    "\n",
    "# Still use 128x128 spectrograms for the RNN \n",
    "\n",
    "# Reshape for CNN input\n",
    "X_train = np.array([x.reshape( (128, 128) ) for x in X_train])\n",
    "X_test = np.array([x.reshape( (128, 128) ) for x in X_test])\n",
    "\n",
    "# One-Hot encoding for classes\n",
    "y_train = np.array(tensorflow.keras.utils.to_categorical(y_train, 4))\n",
    "y_test = np.array(tensorflow.keras.utils.to_categorical(y_test, 4))"
   ]
  },
  {
   "cell_type": "code",
   "execution_count": 71,
   "metadata": {},
   "outputs": [],
   "source": [
    "# librosa.display.specshow(X_train[8])"
   ]
  },
  {
   "cell_type": "markdown",
   "metadata": {},
   "source": [
    "Specity, compile, and evaluate model\n",
    "\n",
    "Improvements:\n",
    "\n",
    "*   Modify model architecture, loss, and optimizer to improve model\n",
    "*   Assess model performance on a variety of measure appropriate for multinomial classification problem\n",
    "*   Compare model performance with different inputs: percussive only, harmonics only, both (current)"
   ]
  },
  {
   "cell_type": "markdown",
   "metadata": {},
   "source": [
    "model = Sequential()\n",
    "input_shape=(128, 128, 1)\n",
    "\n",
    "model.add(Conv2D(24, (5, 5), strides=(1, 1), input_shape=input_shape))\n",
    "model.add(MaxPooling2D((4, 2), strides=(4, 2)))\n",
    "model.add(Activation('sigmoid'))\n",
    "\n",
    "model.add(Conv2D(48, (5, 5), padding=\"valid\"))\n",
    "model.add(MaxPooling2D((4, 2), strides=(4, 2)))\n",
    "model.add(Activation('sigmoid'))\n",
    "\n",
    "model.add(Conv2D(48, (5, 5), padding=\"valid\"))\n",
    "model.add(Activation('sigmoid'))\n",
    "\n",
    "model.add(Flatten())\n",
    "model.add(Dropout(rate=0.5))\n",
    "\n",
    "model.add(Dense(64))\n",
    "model.add(Activation('sigmoid'))\n",
    "model.add(Dropout(rate=0.5))\n",
    "\n",
    "model.add(Dense(4))\n",
    "model.add(Activation('softmax'))"
   ]
  },
  {
   "cell_type": "code",
   "execution_count": 72,
   "metadata": {},
   "outputs": [],
   "source": [
    "input_shape = (128,128)\n",
    "num_classes = 4\n",
    "\n",
    "model = Sequential()\n",
    "model.add(LSTM(64,\n",
    "               input_shape = input_shape,\n",
    "               return_sequences=True, \n",
    "               dropout=0.1, recurrent_dropout=0.1))\n",
    "# Dropout after each LSTM layer, as proposed \n",
    "model.add(Dropout(0.2))\n",
    "model.add(Dense(64, activation='relu'))\n",
    "model.add(Activation('relu'))\n",
    "model.add(Dropout(rate=0.5))\n",
    "\n",
    "# Output \n",
    "model.add(Flatten())\n",
    "model.add(Dense(num_classes, activation='softmax'))\n",
    "\n",
    "model.compile(\n",
    "\toptimizer=\"Adam\",\n",
    "\tloss=\"categorical_crossentropy\",\n",
    "\tmetrics=['accuracy'])"
   ]
  },
  {
   "cell_type": "code",
   "execution_count": 73,
   "metadata": {},
   "outputs": [
    {
     "name": "stdout",
     "output_type": "stream",
     "text": [
      "Train on 849 samples, validate on 95 samples\n",
      "Epoch 1/5\n",
      "849/849 [==============================] - 11s 13ms/step - loss: 1.4334 - acc: 0.2638 - val_loss: 1.3410 - val_acc: 0.3053\n",
      "Epoch 2/5\n",
      "849/849 [==============================] - 7s 8ms/step - loss: 1.2611 - acc: 0.4264 - val_loss: 1.3120 - val_acc: 0.4000\n",
      "Epoch 3/5\n",
      "849/849 [==============================] - 7s 8ms/step - loss: 1.1671 - acc: 0.5112 - val_loss: 1.2765 - val_acc: 0.4000\n",
      "Epoch 4/5\n",
      "849/849 [==============================] - 7s 8ms/step - loss: 1.1047 - acc: 0.5371 - val_loss: 1.2636 - val_acc: 0.3684\n",
      "Epoch 5/5\n",
      "849/849 [==============================] - 7s 8ms/step - loss: 1.0127 - acc: 0.5771 - val_loss: 1.2671 - val_acc: 0.4211\n"
     ]
    }
   ],
   "source": [
    "history = model.fit(X_train,\n",
    "          y_train,\n",
    "          epochs=5,\n",
    "          validation_split=0.10,\n",
    "          verbose=1.0)"
   ]
  },
  {
   "cell_type": "code",
   "execution_count": 76,
   "metadata": {},
   "outputs": [
    {
     "name": "stdout",
     "output_type": "stream",
     "text": [
      "236/236 [==============================] - 1s 2ms/step\n",
      "Test loss: 1.2765682673050185\n",
      "Test accuracy: 0.3983050852508868\n"
     ]
    }
   ],
   "source": [
    "score = model.evaluate(\n",
    "\tx=X_test,\n",
    "\ty=y_test)\n",
    "\n",
    "print('Test loss:', score[0])\n",
    "print('Test accuracy:', score[1])"
   ]
  },
  {
   "cell_type": "code",
   "execution_count": 85,
   "metadata": {},
   "outputs": [
    {
     "data": {
      "image/png": "[encoded data removed]",
      "text/plain": [
       "<Figure size 432x288 with 1 Axes>"
      ]
     },
     "metadata": {},
     "output_type": "display_data"
    },
    {
     "data": {
      "image/png": "[encoded data removed]",
      "text/plain": [
       "<Figure size 432x288 with 1 Axes>"
      ]
     },
     "metadata": {},
     "output_type": "display_data"
    }
   ],
   "source": [
    "plot_model(model, to_file='../figures/rnn1.png', show_shapes=True)\n",
    "\n",
    "plt.plot(history.history['acc'])\n",
    "plt.plot(history.history['val_acc'])\n",
    "plt.title('Model Accuracy')\n",
    "plt.ylabel('Accuracy')\n",
    "plt.xlabel('Epoch')\n",
    "plt.legend(['Train', 'Test'], loc='upper left')\n",
    "plt.show()\n",
    "\n",
    "# Plot training & validation loss values\n",
    "plt.plot(history.history['loss'])\n",
    "plt.plot(history.history['val_loss'])\n",
    "plt.title('Model Loss')\n",
    "plt.ylabel('Loss')\n",
    "plt.xlabel('Epoch')\n",
    "plt.legend(['Train', 'Test'], loc='upper left')\n",
    "plt.show()"
   ]
  },
  {
   "cell_type": "code",
   "execution_count": null,
   "metadata": {},
   "outputs": [],
   "source": []
  }
 ],
 "metadata": {
  "kernelspec": {
   "display_name": "Python 3",
   "language": "python",
   "name": "python3"
  },
  "language_info": {
   "codemirror_mode": {
    "name": "ipython",
    "version": 3
   },
   "file_extension": ".py",
   "mimetype": "text/x-python",
   "name": "python",
   "nbconvert_exporter": "python",
   "pygments_lexer": "ipython3",
   "version": "3.5.4"
  }
 },
 "nbformat": 4,
 "nbformat_minor": 2
}
