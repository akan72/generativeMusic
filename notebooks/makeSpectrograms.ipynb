{
 "cells": [
  {
   "cell_type": "code",
   "execution_count": 1,
   "metadata": {},
   "outputs": [
    {
     "name": "stdout",
     "output_type": "stream",
     "text": [
      "C:\\Users\\lexokan\\Dropbox\\R and Python\\generativeMusic\\data\\audio\n"
     ]
    }
   ],
   "source": [
    "from __future__ import print_function\n",
    "import numpy as np\n",
    "import matplotlib.pyplot as plt\n",
    "\n",
    "import glob\n",
    "import cv2\n",
    "import re\n",
    "import pickle\n",
    "\n",
    "import librosa\n",
    "import librosa.display\n",
    "from sklearn.preprocessing import LabelEncoder\n",
    "#%matplotlib inline\n",
    "\n",
    "%cd ../data/audio"
   ]
  },
  {
   "cell_type": "code",
   "execution_count": 2,
   "metadata": {},
   "outputs": [
    {
     "name": "stdout",
     "output_type": "stream",
     "text": [
      "118\n"
     ]
    }
   ],
   "source": [
    "songs = [re.search('.+?(?=\\.wav)', x).group(0)\n",
    "              for x in glob.iglob('*.wav')]\n",
    "\n",
    "print(len(songs))"
   ]
  },
  {
   "cell_type": "code",
   "execution_count": 3,
   "metadata": {},
   "outputs": [
    {
     "name": "stdout",
     "output_type": "stream",
     "text": [
      "C:\\Users\\lexokan\\Dropbox\\R and Python\\generativeMusic\\data\\img\n"
     ]
    }
   ],
   "source": [
    "%cd ../img\n",
    "# 4 make_image function \n",
    "def make_imageSTFT(data, outputname, ref):\n",
    "    librosa.display.specshow(librosa.amplitude_to_db(np.abs(data), ref=ref), y_axis= 'log')\n",
    "    plt.savefig(outputname, dpi=200)\n",
    "    \n",
    "def make_imagePH(data, outputname, ref):\n",
    "    librosa.display.specshow(librosa.amplitude_to_db(np.abs(data), ref=ref), y_axis= 'log')\n",
    "    plt.savefig(outputname, dpi=200)\n",
    "    \n",
    "def make_imageMEL(data, outputname):\n",
    "    librosa.display.specshow(librosa.power_to_db(data, ref=np.max), y_axis= 'log')\n",
    "    plt.savefig(outputname, dpi=200)"
   ]
  },
  {
   "cell_type": "code",
   "execution_count": 4,
   "metadata": {},
   "outputs": [
    {
     "name": "stdout",
     "output_type": "stream",
     "text": [
      "C:\\Users\\lexokan\\Dropbox\\R and Python\\generativeMusic\\data\\img\\melspec\n"
     ]
    },
    {
     "ename": "FileNotFoundError",
     "evalue": "[Errno 2] No such file or directory: 'C:\\\\Users\\\\lexokan\\\\Dropbox\\\\R and Python\\\\generativeMusic\\\\data\\\\img\\\\audio\\\\01_10003_1-04_Shri_Visvanatham.wav'",
     "output_type": "error",
     "traceback": [
      "\u001b[1;31m---------------------------------------------------------------------------\u001b[0m",
      "\u001b[1;31mFileNotFoundError\u001b[0m                         Traceback (most recent call last)",
      "\u001b[1;32m<ipython-input-4-a6fd8641eb30>\u001b[0m in \u001b[0;36m<module>\u001b[1;34m\u001b[0m\n\u001b[0;32m      8\u001b[0m \u001b[1;31m# Generate Melspecs\u001b[0m\u001b[1;33m\u001b[0m\u001b[1;33m\u001b[0m\u001b[0m\n\u001b[0;32m      9\u001b[0m \u001b[1;32mfor\u001b[0m \u001b[0mi\u001b[0m\u001b[1;33m,\u001b[0m \u001b[0msong\u001b[0m \u001b[1;32min\u001b[0m \u001b[0menumerate\u001b[0m\u001b[1;33m(\u001b[0m\u001b[0msongs\u001b[0m\u001b[1;33m)\u001b[0m\u001b[1;33m:\u001b[0m\u001b[1;33m\u001b[0m\u001b[0m\n\u001b[1;32m---> 10\u001b[1;33m     \u001b[0my\u001b[0m\u001b[1;33m,\u001b[0m \u001b[0msr\u001b[0m \u001b[1;33m=\u001b[0m \u001b[0mlibrosa\u001b[0m\u001b[1;33m.\u001b[0m\u001b[0mload\u001b[0m\u001b[1;33m(\u001b[0m\u001b[1;34m'../audio/'\u001b[0m\u001b[1;33m+\u001b[0m\u001b[0msong\u001b[0m \u001b[1;33m+\u001b[0m \u001b[1;34m'.wav'\u001b[0m\u001b[1;33m)\u001b[0m\u001b[1;33m\u001b[0m\u001b[0m\n\u001b[0m\u001b[0;32m     11\u001b[0m \u001b[1;33m\u001b[0m\u001b[0m\n\u001b[0;32m     12\u001b[0m     \u001b[0mD\u001b[0m \u001b[1;33m=\u001b[0m \u001b[0mlibrosa\u001b[0m\u001b[1;33m.\u001b[0m\u001b[0mstft\u001b[0m\u001b[1;33m(\u001b[0m\u001b[0my\u001b[0m\u001b[1;33m)\u001b[0m\u001b[1;33m\u001b[0m\u001b[0m\n",
      "\u001b[1;32m~\\Anaconda3\\envs\\lab\\lib\\site-packages\\librosa\\core\\audio.py\u001b[0m in \u001b[0;36mload\u001b[1;34m(path, sr, mono, offset, duration, dtype, res_type)\u001b[0m\n\u001b[0;32m    110\u001b[0m \u001b[1;33m\u001b[0m\u001b[0m\n\u001b[0;32m    111\u001b[0m     \u001b[0my\u001b[0m \u001b[1;33m=\u001b[0m \u001b[1;33m[\u001b[0m\u001b[1;33m]\u001b[0m\u001b[1;33m\u001b[0m\u001b[0m\n\u001b[1;32m--> 112\u001b[1;33m     \u001b[1;32mwith\u001b[0m \u001b[0maudioread\u001b[0m\u001b[1;33m.\u001b[0m\u001b[0maudio_open\u001b[0m\u001b[1;33m(\u001b[0m\u001b[0mos\u001b[0m\u001b[1;33m.\u001b[0m\u001b[0mpath\u001b[0m\u001b[1;33m.\u001b[0m\u001b[0mrealpath\u001b[0m\u001b[1;33m(\u001b[0m\u001b[0mpath\u001b[0m\u001b[1;33m)\u001b[0m\u001b[1;33m)\u001b[0m \u001b[1;32mas\u001b[0m \u001b[0minput_file\u001b[0m\u001b[1;33m:\u001b[0m\u001b[1;33m\u001b[0m\u001b[0m\n\u001b[0m\u001b[0;32m    113\u001b[0m         \u001b[0msr_native\u001b[0m \u001b[1;33m=\u001b[0m \u001b[0minput_file\u001b[0m\u001b[1;33m.\u001b[0m\u001b[0msamplerate\u001b[0m\u001b[1;33m\u001b[0m\u001b[0m\n\u001b[0;32m    114\u001b[0m         \u001b[0mn_channels\u001b[0m \u001b[1;33m=\u001b[0m \u001b[0minput_file\u001b[0m\u001b[1;33m.\u001b[0m\u001b[0mchannels\u001b[0m\u001b[1;33m\u001b[0m\u001b[0m\n",
      "\u001b[1;32m~\\Anaconda3\\envs\\lab\\lib\\site-packages\\audioread\\__init__.py\u001b[0m in \u001b[0;36maudio_open\u001b[1;34m(path)\u001b[0m\n\u001b[0;32m     78\u001b[0m     \u001b[1;32mfrom\u001b[0m \u001b[1;33m.\u001b[0m \u001b[1;32mimport\u001b[0m \u001b[0mrawread\u001b[0m\u001b[1;33m\u001b[0m\u001b[0m\n\u001b[0;32m     79\u001b[0m     \u001b[1;32mtry\u001b[0m\u001b[1;33m:\u001b[0m\u001b[1;33m\u001b[0m\u001b[0m\n\u001b[1;32m---> 80\u001b[1;33m         \u001b[1;32mreturn\u001b[0m \u001b[0mrawread\u001b[0m\u001b[1;33m.\u001b[0m\u001b[0mRawAudioFile\u001b[0m\u001b[1;33m(\u001b[0m\u001b[0mpath\u001b[0m\u001b[1;33m)\u001b[0m\u001b[1;33m\u001b[0m\u001b[0m\n\u001b[0m\u001b[0;32m     81\u001b[0m     \u001b[1;32mexcept\u001b[0m \u001b[0mDecodeError\u001b[0m\u001b[1;33m:\u001b[0m\u001b[1;33m\u001b[0m\u001b[0m\n\u001b[0;32m     82\u001b[0m         \u001b[1;32mpass\u001b[0m\u001b[1;33m\u001b[0m\u001b[0m\n",
      "\u001b[1;32m~\\Anaconda3\\envs\\lab\\lib\\site-packages\\audioread\\rawread.py\u001b[0m in \u001b[0;36m__init__\u001b[1;34m(self, filename)\u001b[0m\n\u001b[0;32m     59\u001b[0m     \"\"\"\n\u001b[0;32m     60\u001b[0m     \u001b[1;32mdef\u001b[0m \u001b[0m__init__\u001b[0m\u001b[1;33m(\u001b[0m\u001b[0mself\u001b[0m\u001b[1;33m,\u001b[0m \u001b[0mfilename\u001b[0m\u001b[1;33m)\u001b[0m\u001b[1;33m:\u001b[0m\u001b[1;33m\u001b[0m\u001b[0m\n\u001b[1;32m---> 61\u001b[1;33m         \u001b[0mself\u001b[0m\u001b[1;33m.\u001b[0m\u001b[0m_fh\u001b[0m \u001b[1;33m=\u001b[0m \u001b[0mopen\u001b[0m\u001b[1;33m(\u001b[0m\u001b[0mfilename\u001b[0m\u001b[1;33m,\u001b[0m \u001b[1;34m'rb'\u001b[0m\u001b[1;33m)\u001b[0m\u001b[1;33m\u001b[0m\u001b[0m\n\u001b[0m\u001b[0;32m     62\u001b[0m \u001b[1;33m\u001b[0m\u001b[0m\n\u001b[0;32m     63\u001b[0m         \u001b[1;32mtry\u001b[0m\u001b[1;33m:\u001b[0m\u001b[1;33m\u001b[0m\u001b[0m\n",
      "\u001b[1;31mFileNotFoundError\u001b[0m: [Errno 2] No such file or directory: 'C:\\\\Users\\\\lexokan\\\\Dropbox\\\\R and Python\\\\generativeMusic\\\\data\\\\img\\\\audio\\\\01_10003_1-04_Shri_Visvanatham.wav'"
     ]
    },
    {
     "data": {
      "image/png": "[encoded data removed]",
      "text/plain": [
       "<Figure size 576x144 with 1 Axes>"
      ]
     },
     "metadata": {
      "needs_background": "light"
     },
     "output_type": "display_data"
    }
   ],
   "source": [
    "%cd melspec\n",
    "\n",
    "fig = plt.figure(figsize=(8,2))\n",
    "ax = plt.Axes(fig, [0., 0., 1., 1.])\n",
    "ax.set_axis_off()\n",
    "fig.add_axes(ax)\n",
    "\n",
    "# Generate Melspecs\n",
    "for i, song in enumerate(songs):\n",
    "    y, sr = librosa.load('../audio/'+song + '.wav')\n",
    "    \n",
    "    D = librosa.stft(y)\n",
    "    S = librosa.feature .melspectrogram(S=D)\n",
    "    \n",
    "    make_imageMEL(S, song + '_mel.png')"
   ]
  },
  {
   "cell_type": "code",
   "execution_count": 4,
   "metadata": {},
   "outputs": [
    {
     "name": "stdout",
     "output_type": "stream",
     "text": [
      "C:\\Users\\lexokan\\Dropbox\\R and Python\\generativeMusic\\data\\img\\melspec\n",
      "118\n"
     ]
    }
   ],
   "source": [
    "%cd melspec \n",
    "mels = [re.search('.+?(?=\\.png)', x).group(0)\n",
    "              for x in glob.iglob('*.png')]\n",
    "\n",
    "print(len(mels))"
   ]
  },
  {
   "cell_type": "code",
   "execution_count": null,
   "metadata": {},
   "outputs": [],
   "source": [
    "%cd ../stft\n",
    "\n",
    "fig = plt.figure(figsize=(8,2))\n",
    "ax = plt.Axes(fig, [0., 0., 1., 1.])\n",
    "ax.set_axis_off()\n",
    "fig.add_axes(ax)\n",
    "\n",
    "# Generate Melspecs\n",
    "for i, song in enumerate(songs[109:]):\n",
    "    print(\"Generating stft: \", i)\n",
    "    y, sr = librosa.load('../../audio/'+song + '.wav')\n",
    "    \n",
    "    D = np.abs(librosa.stft(y))\n",
    "    make_imageSTFT(D, song + '_stft.png', ref=np.max)"
   ]
  },
  {
   "cell_type": "code",
   "execution_count": 15,
   "metadata": {},
   "outputs": [
    {
     "name": "stdout",
     "output_type": "stream",
     "text": [
      "C:\\Users\\lexokan\\Dropbox\\R and Python\\generativeMusic\\data\\img\\stft\n",
      "118\n"
     ]
    }
   ],
   "source": [
    "%cd ../stft\n",
    "stfts = [re.search('.+?(?=\\.png)', x).group(0)\n",
    "              for x in glob.iglob('*.png')]\n",
    "\n",
    "print(len(stfts))"
   ]
  },
  {
   "cell_type": "code",
   "execution_count": null,
   "metadata": {},
   "outputs": [],
   "source": [
    "for i, song in enumerate(songs):\n",
    "    print(\"Harmonic & Percussive: \": \", i)\n",
    "    y, sr = librosa.load(song + '.wav')\n",
    "    D = librosa.stft(y)              \n",
    "    # Pre-compute a global reference power from the input spectrum\n",
    "    rp = np.max(np.abs(D))\n",
    "    \n",
    "    D_harmonic8, D_percussive8 = librosa.decompose.hpss(D, margin=8)\n",
    "    make_imagePH(D_harmonic8, song + '_H8.png', rp)\n",
    "    make_imagePH(D_percussive8, song + '_P8.png', rp)"
   ]
  },
  {
   "cell_type": "code",
   "execution_count": 28,
   "metadata": {},
   "outputs": [
    {
     "name": "stdout",
     "output_type": "stream",
     "text": [
      "['8/4', '3/4', '7/8', '5/8', '8/4'] [3 0 2 1 3]\n",
      "\n",
      " ['01_10003_1-04_Shri_Visvanatham', '01_11001_3_Sankari_Neeve', '01_12001_8_Krishna_Nee_Begane', '01_13001_2-02_Hecharikaga', '02_10004_1_Vathapi']\n",
      "\n",
      " ['01_10003_1-04_Shri_Visvanatham_mel', '01_11001_3_Sankari_Neeve_mel', '01_12001_8_Krishna_Nee_Begane_mel', '01_13001_2-02_Hecharikaga_mel', '02_10004_1_Vathapi_mel']\n",
      "\n",
      " ['01_10003_1-04_Shri_Visvanatham_stft', '01_11001_3_Sankari_Neeve_stft', '01_12001_8_Krishna_Nee_Begane_stft', '01_13001_2-02_Hecharikaga_stft', '02_10004_1_Vathapi_stft']\n"
     ]
    }
   ],
   "source": [
    "# Check to see if the spectrograms and meters are in the same order \n",
    "# Extract song meter from the annotations directory \n",
    "\n",
    "meter = []\n",
    "for song in songs:\n",
    "    with open('../../annotations/meter/' + song + '.meter', 'r') as file:\n",
    "        meter.append(file.readline())\n",
    "\n",
    "# Encode song meter (taala) as an integer \n",
    "le = LabelEncoder()\n",
    "meter_enc = le.fit_transform(meter)\n",
    "\n",
    "print(meter[:5], meter_enc[:5])\n",
    "print(\"\\n\", songs[:5])\n",
    "print(\"\\n\", mels[:5])\n",
    "print(\"\\n\", stfts[:5])"
   ]
  },
  {
   "cell_type": "code",
   "execution_count": 31,
   "metadata": {},
   "outputs": [],
   "source": [
    "df = []\n",
    "for i, song in enumerate(songs):\n",
    "    df.append((song, mels[i], stfts[i], meter_enc[i]))\n",
    "    \n",
    "with open('../../temp/specURLs.pkl', 'wb') as f:\n",
    "    pickle.dump(df, f)"
   ]
  }
 ],
 "metadata": {
  "kernelspec": {
   "display_name": "Python 3",
   "language": "python",
   "name": "python3"
  },
  "language_info": {
   "codemirror_mode": {
    "name": "ipython",
    "version": 3
   },
   "file_extension": ".py",
   "mimetype": "text/x-python",
   "name": "python",
   "nbconvert_exporter": "python",
   "pygments_lexer": "ipython3",
   "version": "3.6.6"
  }
 },
 "nbformat": 4,
 "nbformat_minor": 2
}
