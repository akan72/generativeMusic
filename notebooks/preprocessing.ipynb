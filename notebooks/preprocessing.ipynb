{
 "cells": [
  {
   "cell_type": "code",
   "execution_count": 19,
   "metadata": {},
   "outputs": [],
   "source": [
    "from __future__ import print_function, division\n",
    "\n",
    "import sys\n",
    "import os\n",
    "\n",
    "from sklearn.model_selection import train_test_split\n",
    "from sklearn.model_selection import KFold\n",
    "import tensorflow as tf \n",
    "\n",
    "from scipy.io import wavfile\n",
    "import pandas as pd\n",
    "import numpy as np \n",
    "\n",
    "sys.path.append('../scripts')"
   ]
  },
  {
   "cell_type": "code",
   "execution_count": 8,
   "metadata": {},
   "outputs": [
    {
     "name": "stdout",
     "output_type": "stream",
     "text": [
      "dict_keys([11008, 12032, 11010, 11011, 12036, 11013, 11014, 11015, 11016, 11018, 11019, 11020, 12034, 11022, 11023, 12048, 13016, 11027, 10004, 11029, 10007, 10008, 10009, 10010, 11035, 10012, 10013, 10014, 10015, 10016, 11041, 11042, 10019, 10021, 10023, 11048, 10025, 10026, 10027, 10028, 11049, 10031, 10034, 10039, 10040, 10041, 10042, 10043, 12042, 10047, 10048, 10049, 10050, 12043, 13025, 12044, 11050, 12045, 13027, 12046, 13028, 12047, 12037, 10003, 11028, 10005, 11005, 11045, 11033, 12033, 11036, 11038, 13001, 13002, 13003, 13004, 13005, 13006, 13007, 13008, 13009, 13010, 13011, 13012, 13013, 13014, 13015, 12035, 13017, 13018, 13019, 13020, 13021, 13022, 13023, 13024, 12001, 13026, 12003, 12004, 11004, 12006, 12007, 12008, 12009, 12011, 12012, 12015, 12018, 12019, 12020, 12023, 11001, 12026, 12028, 12029, 11006, 11007])\n"
     ]
    }
   ],
   "source": [
    "# Map keys to each .wav file\n",
    "globalDict = {}\n",
    "for i in os.listdir(\"../data/audio\"):\n",
    "    globalDict[int(i[3:8])] = i\n",
    "\n",
    "print(globalDict.keys())"
   ]
  },
  {
   "cell_type": "code",
   "execution_count": 9,
   "metadata": {},
   "outputs": [],
   "source": [
    "# Assign Tala to each .wav file\n",
    "\n",
    "adiDict = {}\n",
    "with open(\"../data/filelist_adi.txt\", 'r') as f:\n",
    "    for i in f:\n",
    "        adiDict[int(i[3:8])] = \"adi\"\n",
    "        \n",
    "kChapuDict = {}\n",
    "with open(\"../data/filelist_kChapu.txt\", 'r') as f:\n",
    "    for i in f:\n",
    "        kChapuDict[int(i[3:8])] = \"khandaChapu\"\n",
    "\n",
    "mChapuDict = {}\n",
    "with open(\"../data/filelist_mChapu.txt\", 'r') as f:\n",
    "    for i in f:\n",
    "        mChapuDict[int(i[3:8])] = \"mishraChapu\"\n",
    "    \n",
    "rupakaDict = {}\n",
    "with open(\"../data/filelist_rupaka.txt\", 'r') as f:\n",
    "    for i in f:\n",
    "        rupakaDict[int(i[3:8])] = \"rupakam\"\n",
    "        \n",
    "allTalas = [adiDict, kChapuDict, mChapuDict, rupakaDict]\n",
    "\n",
    "super_dict = {}\n",
    "for d in allTalas:\n",
    "    for k, v in d.items():  # d.items() in Python 3+\n",
    "        super_dict.setdefault(k, []).append(v)"
   ]
  },
  {
   "cell_type": "code",
   "execution_count": 10,
   "metadata": {},
   "outputs": [],
   "source": [
    "codebook = pd.read_excel('../data/CMRdataset.xlsx')\n",
    "codebook = codebook[['fullID', 'Name', 'Artist', 'Lead Instrument Code', 'Taala', 'Raaga','Number of annotated beats','Number of samas']]"
   ]
  },
  {
   "cell_type": "code",
   "execution_count": 11,
   "metadata": {},
   "outputs": [
    {
     "name": "stdout",
     "output_type": "stream",
     "text": [
      "    fullID                       Name               Artist  \\\n",
      "0  10003.0      1-04_Shri_Visvanatham       Amritha Murali   \n",
      "1  10004.0                  1_Vathapi  Aneesh Vidyashankar   \n",
      "2  10005.0        2_Jagadanandakaraka  Aneesh Vidyashankar   \n",
      "3  10007.0  2-01_Anandamruta_Karshini         Aruna Sairam   \n",
      "4  10008.0                  9_Tillana      Bombay Jayashri   \n",
      "\n",
      "  Lead Instrument Code Taala                   Raaga  \\\n",
      "0                    V   adi  chaturdasha ragamalika   \n",
      "1                    L   adi             hamsadhwani   \n",
      "2                    L   adi                  nattai   \n",
      "3                    V   adi          amritavarshini   \n",
      "4                    V   adi                    desh   \n",
      "\n",
      "   Number of annotated beats  Number of samas  \n",
      "0                        162               21  \n",
      "1                        182               23  \n",
      "2                        156               20  \n",
      "3                        189               24  \n",
      "4                        206               26  \n"
     ]
    }
   ],
   "source": [
    "print(codebook.head())"
   ]
  },
  {
   "cell_type": "code",
   "execution_count": null,
   "metadata": {},
   "outputs": [],
   "source": [
    "# Feature Extraction "
   ]
  },
  {
   "cell_type": "code",
   "execution_count": null,
   "metadata": {},
   "outputs": [],
   "source": [
    "# Classifying Taala \n",
    "\n",
    "# Classifying Lead Instrument \n",
    "\n",
    "\n",
    "# KFold CV\n",
    "# https://stackoverflow.com/questions/38164798/does-tensorflow-have-cross-validation-implemented-for-its-users?rq=1 \n",
    "X = codebook['fullID']\n",
    "Y = codebook['Taala']\n",
    "\n",
    "X_train, X_test, y_train, y_test = train_test_split(X, Y, test_size=0.2, random_state=1)\n"
   ]
  }
 ],
 "metadata": {
  "kernelspec": {
   "display_name": "Python 3",
   "language": "python",
   "name": "python3"
  },
  "language_info": {
   "codemirror_mode": {
    "name": "ipython",
    "version": 3
   },
   "file_extension": ".py",
   "mimetype": "text/x-python",
   "name": "python",
   "nbconvert_exporter": "python",
   "pygments_lexer": "ipython3",
   "version": "3.5.4"
  }
 },
 "nbformat": 4,
 "nbformat_minor": 2
}
