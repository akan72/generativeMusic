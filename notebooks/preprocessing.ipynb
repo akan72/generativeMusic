{
 "cells": [
  {
   "cell_type": "code",
   "execution_count": 1,
   "metadata": {},
   "outputs": [],
   "source": [
    "from __future__ import print_function, division\n",
    "\n",
    "import sys\n",
    "import os\n",
    "import glob\n",
    "\n",
    "import librosa, librosa.display\n",
    "\n",
    "import sklearn\n",
    "from sklearn.preprocessing import MinMaxScaler\n",
    "from sklearn.model_selection import train_test_split\n",
    "from sklearn.model_selection import KFold\n",
    "import tensorflow as tf \n",
    "import graphviz\n",
    "\n",
    "import scipy\n",
    "from scipy.io import wavfile\n",
    "import IPython.display as ipd\n",
    "import matplotlib.pyplot as plt\n",
    "import pandas as pd\n",
    "import numpy as np \n",
    "\n",
    "os.environ[\"PATH\"] += os.pathsep + 'C:/Program Files (x86)/Graphviz2.38/bin/'\n",
    "sys.path.append('../scripts')\n",
    "%matplotlib inline"
   ]
  },
  {
   "cell_type": "code",
   "execution_count": 2,
   "metadata": {},
   "outputs": [],
   "source": [
    "codebook = pd.read_excel('../data/CMRdataset.xlsx')\n",
    "codebook = codebook[['fullID', 'Name', 'Artist', 'Lead Instrument Code', 'Taala', 'Raaga','Number of annotated beats','Number of samas']]\n",
    "\n",
    "# print(codebook.head())"
   ]
  },
  {
   "cell_type": "code",
   "execution_count": 4,
   "metadata": {},
   "outputs": [],
   "source": [
    "files = []\n",
    "files.extend(glob.glob(os.path.join(\"../data/audio\", \"*.wav\")))\n",
    "# print([file for file in files][0:1])"
   ]
  },
  {
   "cell_type": "markdown",
   "metadata": {},
   "source": [
    "# Feature Extraction"
   ]
  },
  {
   "cell_type": "code",
   "execution_count": 5,
   "metadata": {},
   "outputs": [
    {
     "name": "stdout",
     "output_type": "stream",
     "text": [
      "(2, 5)\n"
     ]
    }
   ],
   "source": [
    "signals = [\n",
    "    librosa.load(file, duration=30.0) for file in files[0:2]\n",
    "]\n",
    "\n",
    "def featurize(signal):\n",
    "    signal = np.asarray(signal)[0]\n",
    "    \n",
    "    # increase margin for greater harmonic/percussive separation\n",
    "    stft = librosa.stft(signal)\n",
    "    H, P = librosa.decompose.hpss(stft, margin=(1.0,5.0))\n",
    "\n",
    "    return [\n",
    "        stft,\n",
    "        H, \n",
    "        P,\n",
    "        librosa.feature.zero_crossing_rate(signal),\n",
    "        librosa.feature.spectral_centroid(signal)\n",
    "    ]\n",
    "\n",
    "features = np.array([featurize(x) for x in signals])\n",
    "print(features.shape)\n",
    "\n",
    "# scaler = MinMaxScaler(feature_range=(-1, 1))\n",
    "# features = scaler.fit_transform(features)\n",
    "#features[0][0], features[0][1]"
   ]
  },
  {
   "cell_type": "markdown",
   "metadata": {},
   "source": [
    "# Modeling "
   ]
  },
  {
   "cell_type": "code",
   "execution_count": 74,
   "metadata": {},
   "outputs": [],
   "source": [
    "from tensorflow.keras.layers import Activation, Dense, Flatten, Input\n",
    "from tensorflow.keras.layers import Conv2D, MaxPooling2D, RNN, SimpleRNNCell, GRUCell, LSTMCell\n",
    "from tensorflow.keras.models import Model, Sequential\n",
    "from tensorflow.keras.utils import to_categorical, plot_model"
   ]
  },
  {
   "cell_type": "code",
   "execution_count": 51,
   "metadata": {},
   "outputs": [],
   "source": [
    "# features[i] indexes into the i-th song\n",
    "# features[i][j] indexes into the j-th feature of the i-th sign \n",
    "temp = features[0][0]"
   ]
  },
  {
   "cell_type": "code",
   "execution_count": null,
   "metadata": {},
   "outputs": [],
   "source": [
    "# turn \"features\" into spectrograms_conv\n",
    "# Classifying Taala\n",
    "X = codebook['fullID'].dropna()\n",
    "Y = codebook['Taala'].dropna()\n",
    "\n",
    "X_train, X_test, y_train, y_test = train_test_split(X, Y, test_size=0.2, random_state=1)"
   ]
  },
  {
   "cell_type": "code",
   "execution_count": null,
   "metadata": {},
   "outputs": [],
   "source": [
    "len(spectrograms) * .7 #80\n",
    "\n",
    "def load_data(spec_data):\n",
    "    \n",
    "    x_train = np.array([x[1] for x in spec_data[:80]])\n",
    "    y_train = np.array([x[2] for x in spec_data[:80]])\n",
    "    \n",
    "    x_test = np.array([x[1] for x in spec_data[80:]])\n",
    "    y_test = np.array([x[2] for x in spec_data[80:]])\n",
    "    \n",
    "    #print(x_train.shape)\n",
    "    \n",
    "    return (x_train, y_train), (x_test, y_test)\n",
    "\n",
    "shuffle(spectrograms_conv) #shuffle spectrogram data"
   ]
  },
  {
   "cell_type": "code",
   "execution_count": 30,
   "metadata": {},
   "outputs": [
    {
     "ename": "NameError",
     "evalue": "name 'spectrograms_conv' is not defined",
     "output_type": "error",
     "traceback": [
      "\u001b[1;31m---------------------------------------------------------------------------\u001b[0m",
      "\u001b[1;31mNameError\u001b[0m                                 Traceback (most recent call last)",
      "\u001b[1;32m<ipython-input-30-7e523351eb8a>\u001b[0m in \u001b[0;36m<module>\u001b[1;34m()\u001b[0m\n\u001b[0;32m      4\u001b[0m \u001b[1;33m\u001b[0m\u001b[0m\n\u001b[0;32m      5\u001b[0m \u001b[1;31m# input image dimensions\u001b[0m\u001b[1;33m\u001b[0m\u001b[1;33m\u001b[0m\u001b[0m\n\u001b[1;32m----> 6\u001b[1;33m \u001b[0mimg_x\u001b[0m\u001b[1;33m,\u001b[0m \u001b[0mimg_y\u001b[0m \u001b[1;33m=\u001b[0m \u001b[0mspectrograms_conv\u001b[0m\u001b[1;33m[\u001b[0m\u001b[1;36m0\u001b[0m\u001b[1;33m]\u001b[0m\u001b[1;33m[\u001b[0m\u001b[1;36m1\u001b[0m\u001b[1;33m]\u001b[0m\u001b[1;33m.\u001b[0m\u001b[0mshape\u001b[0m\u001b[1;33m\u001b[0m\u001b[0m\n\u001b[0m\u001b[0;32m      7\u001b[0m \u001b[1;33m\u001b[0m\u001b[0m\n\u001b[0;32m      8\u001b[0m \u001b[1;31m# load the spectrogram data\u001b[0m\u001b[1;33m\u001b[0m\u001b[1;33m\u001b[0m\u001b[0m\n",
      "\u001b[1;31mNameError\u001b[0m: name 'spectrograms_conv' is not defined"
     ]
    }
   ],
   "source": [
    "batch_size = 1\n",
    "num_classes = 4\n",
    "epochs = 10\n",
    "\n",
    "# input image dimensions\n",
    "img_x, img_y = spectrograms_conv[0][1].shape\n",
    "\n",
    "# load the spectrogram data\n",
    "(x_train, y_train), (x_test, y_test) = load_data(spectrograms_conv)\n",
    "\n",
    "n_train = x_train.shape[0]\n",
    "n_test = x_test.shape[0]\n",
    "\n",
    "scaler = MinMaxScaler(feature_range=(-1, 1))\n",
    "scaler.fit(x_train.reshape(x_train.shape[0]*img_x, img_y))\n",
    "# reshape the data into a 4D tensor - (sample_number, x_img_size, y_img_size, num_channels)\n",
    "# RGB colour images would have 3, spectrogram data has 1\n",
    "x_train = scaler.transform(x_train.reshape(x_train.shape[0]*img_x, img_y)).reshape((x_train.shape[0],img_x, img_y,1))\n",
    "\n",
    "scaler.fit(x_test.reshape(x_test.shape[0]*img_x, img_y))\n",
    "x_test = scaler.transform(x_test.reshape(x_test.shape[0]*img_x, img_y)).reshape((x_test.shape[0],img_x, img_y,1))\n",
    "\n",
    "\n",
    "input_shape = (img_x, img_y, 1)\n",
    "\n",
    "print('x_train shape:', x_train.shape)\n",
    "print(x_train.shape[0], 'train samples')\n",
    "print('x_test shape:', x_train.shape)\n",
    "print(x_test.shape[0], 'test samples')\n",
    "\n",
    "# convert class vectors to binary class matrices - this is for use in the\n",
    "# categorical_crossentropy loss below\n",
    "\n",
    "le = LabelEncoder()\n",
    "le.fit(y_train)\n",
    "y_train = tensorflow.keras.utils.to_categorical(le.transform(y_train), num_classes)\n",
    "y_test = tensorflow.keras.utils.to_categorical(le.transform(y_test), num_classes)\n",
    "\n",
    "#del spectrograms"
   ]
  },
  {
   "cell_type": "code",
   "execution_count": null,
   "metadata": {},
   "outputs": [],
   "source": [
    "model = Sequential()\n",
    "model.add(Conv2D(16, kernel_size=(5, 5), strides=(1, 1),\n",
    "                 activation='relu',\n",
    "                 input_shape=input_shape))\n",
    "model.add(MaxPooling2D(pool_size=(2, 2), strides=(2, 2)))\n",
    "model.add(Conv2D(24, (5, 5), activation='relu'))\n",
    "model.add(MaxPooling2D(pool_size=(2, 2)))\n",
    "model.add(Flatten())\n",
    "model.add(Dense(100, activation='relu'))\n",
    "model.add(Dense(num_classes, activation='softmax'))\n",
    "\n",
    "model.compile(loss=tensorflow.keras.losses.categorical_crossentropy,\n",
    "              optimizer=tensorflow.keras.optimizers.Adam(),\n",
    "              metrics=['accuracy'])\n",
    "\n",
    "class AccuracyHistory(tensorflow.keras.callbacks.Callback):\n",
    "    def on_train_begin(self, logs={}):\n",
    "        self.acc = []\n",
    "\n",
    "    def on_epoch_end(self, batch, logs={}):\n",
    "        self.acc.append(logs.get('acc'))\n",
    "\n",
    "history = AccuracyHistory()\n",
    "\n",
    "model.fit(x_train, y_train,\n",
    "          batch_size=batch_size,\n",
    "          epochs=epochs,\n",
    "          verbose=1,\n",
    "          validation_data=(x_test, y_test),\n",
    "          callbacks=[history])"
   ]
  },
  {
   "cell_type": "code",
   "execution_count": null,
   "metadata": {},
   "outputs": [],
   "source": [
    "score = model.evaluate(x_test, y_test, verbose=0)\n",
    "print('Test loss:', score[0])\n",
    "print('Test accuracy:', score[1])\n",
    "plt.plot(range(1, 11), history.acc)\n",
    "plt.xlabel('Epochs')\n",
    "plt.ylabel('Accuracy')\n",
    "plt.show()"
   ]
  },
  {
   "cell_type": "code",
   "execution_count": null,
   "metadata": {},
   "outputs": [],
   "source": [
    "del model"
   ]
  },
  {
   "cell_type": "code",
   "execution_count": 72,
   "metadata": {},
   "outputs": [
    {
     "ename": "ValueError",
     "evalue": "('`cell` should have a `call` method. The RNN was passed:', 5)",
     "output_type": "error",
     "traceback": [
      "\u001b[1;31m---------------------------------------------------------------------------\u001b[0m",
      "\u001b[1;31mValueError\u001b[0m                                Traceback (most recent call last)",
      "\u001b[1;32m<ipython-input-72-d1933b45b9f6>\u001b[0m in \u001b[0;36m<module>\u001b[1;34m()\u001b[0m\n\u001b[0;32m      3\u001b[0m \u001b[0mmodel\u001b[0m \u001b[1;33m=\u001b[0m \u001b[0mSequential\u001b[0m\u001b[1;33m(\u001b[0m\u001b[1;33m)\u001b[0m\u001b[1;33m\u001b[0m\u001b[0m\n\u001b[0;32m      4\u001b[0m \u001b[0mmodel\u001b[0m\u001b[1;33m.\u001b[0m\u001b[0madd\u001b[0m\u001b[1;33m(\u001b[0m\u001b[0mDense\u001b[0m\u001b[1;33m(\u001b[0m\u001b[0msize\u001b[0m\u001b[1;33m,\u001b[0m \u001b[0minput_dim\u001b[0m\u001b[1;33m=\u001b[0m\u001b[0minput_dim\u001b[0m\u001b[1;33m,\u001b[0m \u001b[0mactivation\u001b[0m \u001b[1;33m=\u001b[0m\u001b[1;34m'relu'\u001b[0m\u001b[1;33m)\u001b[0m\u001b[1;33m)\u001b[0m\u001b[1;33m\u001b[0m\u001b[0m\n\u001b[1;32m----> 5\u001b[1;33m \u001b[0mmodel\u001b[0m\u001b[1;33m.\u001b[0m\u001b[0madd\u001b[0m\u001b[1;33m(\u001b[0m\u001b[0mRNN\u001b[0m\u001b[1;33m(\u001b[0m\u001b[1;36m5\u001b[0m\u001b[1;33m,\u001b[0m \u001b[0mactivation\u001b[0m\u001b[1;33m=\u001b[0m\u001b[1;34m'softmax'\u001b[0m\u001b[1;33m)\u001b[0m\u001b[1;33m)\u001b[0m\u001b[1;33m\u001b[0m\u001b[0m\n\u001b[0m\u001b[0;32m      6\u001b[0m \u001b[1;33m\u001b[0m\u001b[0m\n\u001b[0;32m      7\u001b[0m model.compile(optimizer='rmsprop',\n",
      "\u001b[1;32mc:\\users\\lexokan\\anaconda3\\envs\\tensorflow\\lib\\site-packages\\tensorflow\\python\\keras\\layers\\recurrent.py\u001b[0m in \u001b[0;36m__init__\u001b[1;34m(self, cell, return_sequences, return_state, go_backwards, stateful, unroll, **kwargs)\u001b[0m\n\u001b[0;32m    395\u001b[0m     \u001b[1;32mif\u001b[0m \u001b[1;32mnot\u001b[0m \u001b[0mhasattr\u001b[0m\u001b[1;33m(\u001b[0m\u001b[0mcell\u001b[0m\u001b[1;33m,\u001b[0m \u001b[1;34m'call'\u001b[0m\u001b[1;33m)\u001b[0m\u001b[1;33m:\u001b[0m\u001b[1;33m\u001b[0m\u001b[0m\n\u001b[0;32m    396\u001b[0m       raise ValueError('`cell` should have a `call` method. '\n\u001b[1;32m--> 397\u001b[1;33m                        'The RNN was passed:', cell)\n\u001b[0m\u001b[0;32m    398\u001b[0m     \u001b[1;32mif\u001b[0m \u001b[1;32mnot\u001b[0m \u001b[0mhasattr\u001b[0m\u001b[1;33m(\u001b[0m\u001b[0mcell\u001b[0m\u001b[1;33m,\u001b[0m \u001b[1;34m'state_size'\u001b[0m\u001b[1;33m)\u001b[0m\u001b[1;33m:\u001b[0m\u001b[1;33m\u001b[0m\u001b[0m\n\u001b[0;32m    399\u001b[0m       raise ValueError('The RNN cell should have '\n",
      "\u001b[1;31mValueError\u001b[0m: ('`cell` should have a `call` method. The RNN was passed:', 5)"
     ]
    }
   ],
   "source": [
    "# TEST \n",
    "\n",
    "# Predicting lead instrument \n",
    "input_dim = 100\n",
    "model = Sequential()\n",
    "model.add(Dense(size, input_dim=input_dim, activation ='relu'))\n",
    "model.add(Dense(5, activation='softmax'))\n",
    "\n",
    "model.compile(optimizer='rmsprop',\n",
    "              loss='categorical_crossentropy',\n",
    "              metrics=['accuracy'])\n",
    "\n",
    "# Generate dummy data\n",
    "data = np.random.random((1000, 100))\n",
    "labels = np.random.randint(5, size=(1000, 1))\n",
    "\n",
    "# Convert labels to categorical one-hot encoding\n",
    "one_hot_labels = to_categorical(labels, num_classes=5)"
   ]
  },
  {
   "cell_type": "code",
   "execution_count": 69,
   "metadata": {},
   "outputs": [
    {
     "name": "stdout",
     "output_type": "stream",
     "text": [
      "Train on 750 samples, validate on 250 samples\n",
      "Epoch 1/15\n",
      "750/750 [==============================] - 1s 773us/step - loss: 1.6049 - acc: 0.1947 - val_loss: 1.6180 - val_acc: 0.2320\n",
      "Epoch 2/15\n",
      "750/750 [==============================] - 1s 811us/step - loss: 1.6049 - acc: 0.2027 - val_loss: 1.6190 - val_acc: 0.1720\n",
      "Epoch 3/15\n",
      "750/750 [==============================] - 1s 843us/step - loss: 1.6048 - acc: 0.2107 - val_loss: 1.6199 - val_acc: 0.1760\n",
      "Epoch 4/15\n",
      "750/750 [==============================] - 1s 821us/step - loss: 1.6048 - acc: 0.1947 - val_loss: 1.6205 - val_acc: 0.1720\n",
      "Epoch 5/15\n",
      "750/750 [==============================] - 1s 755us/step - loss: 1.6048 - acc: 0.2187 - val_loss: 1.6207 - val_acc: 0.1760\n",
      "Epoch 6/15\n",
      "750/750 [==============================] - 1s 806us/step - loss: 1.6047 - acc: 0.2160 - val_loss: 1.6213 - val_acc: 0.1760\n",
      "Epoch 7/15\n",
      "750/750 [==============================] - 1s 771us/step - loss: 1.6048 - acc: 0.2040 - val_loss: 1.6214 - val_acc: 0.1760\n",
      "Epoch 8/15\n",
      "750/750 [==============================] - 1s 788us/step - loss: 1.6046 - acc: 0.2173 - val_loss: 1.6220 - val_acc: 0.2360\n",
      "Epoch 9/15\n",
      "750/750 [==============================] - 1s 803us/step - loss: 1.6048 - acc: 0.2107 - val_loss: 1.6218 - val_acc: 0.1760\n",
      "Epoch 10/15\n",
      "750/750 [==============================] - 1s 786us/step - loss: 1.6047 - acc: 0.2213 - val_loss: 1.6221 - val_acc: 0.1760\n",
      "Epoch 11/15\n",
      "750/750 [==============================] - 1s 769us/step - loss: 1.6048 - acc: 0.2227 - val_loss: 1.6224 - val_acc: 0.1720\n",
      "Epoch 12/15\n",
      "750/750 [==============================] - 1s 766us/step - loss: 1.6048 - acc: 0.2173 - val_loss: 1.6225 - val_acc: 0.1720\n",
      "Epoch 13/15\n",
      "750/750 [==============================] - 1s 728us/step - loss: 1.6047 - acc: 0.2213 - val_loss: 1.6221 - val_acc: 0.1760\n",
      "Epoch 14/15\n",
      "750/750 [==============================] - 1s 944us/step - loss: 1.6048 - acc: 0.2107 - val_loss: 1.6218 - val_acc: 0.1720\n",
      "Epoch 15/15\n",
      "750/750 [==============================] - 1s 827us/step - loss: 1.6048 - acc: 0.2133 - val_loss: 1.6224 - val_acc: 0.1720\n"
     ]
    }
   ],
   "source": [
    "# Train the model, iterating on the data in batches of 32 samples\n",
    "history = model.fit(data, one_hot_labels, validation_split=0.25, epochs=15, batch_size=size, verbose=1)"
   ]
  },
  {
   "cell_type": "code",
   "execution_count": 70,
   "metadata": {},
   "outputs": [
    {
     "data": {
      "image/png": "[encoded data removed]",
      "text/plain": [
       "<Figure size 432x288 with 1 Axes>"
      ]
     },
     "metadata": {},
     "output_type": "display_data"
    },
    {
     "data": {
      "image/png": "[encoded data removed]",
      "text/plain": [
       "<Figure size 432x288 with 1 Axes>"
      ]
     },
     "metadata": {},
     "output_type": "display_data"
    }
   ],
   "source": [
    "plot_model(model, to_file='../figures/model.png', show_shapes=True)\n",
    "\n",
    "plt.plot(history.history['acc'])\n",
    "plt.plot(history.history['val_acc'])\n",
    "plt.title('Model accuracy')\n",
    "plt.ylabel('Accuracy')\n",
    "plt.xlabel('Epoch')\n",
    "plt.legend(['Train', 'Test'], loc='upper left')\n",
    "plt.show()\n",
    "\n",
    "# Plot training & validation loss values\n",
    "plt.plot(history.history['loss'])\n",
    "plt.plot(history.history['val_loss'])\n",
    "plt.title('Model loss')\n",
    "plt.ylabel('Loss')\n",
    "plt.xlabel('Epoch')\n",
    "plt.legend(['Train', 'Test'], loc='upper left')\n",
    "plt.show()"
   ]
  },
  {
   "cell_type": "code",
   "execution_count": 71,
   "metadata": {},
   "outputs": [],
   "source": [
    "### Feature Extraction \n",
    "\n",
    "# Decompose into components based on stft\n",
    "\n",
    "### Window\n",
    "\n",
    "# From time domain to frequency domain to make spectrogram \n",
    "# Feed spectrograms into RNN or a conv net (2D convolutional network and treat spectrogram as an image) over this transformed domain\n",
    "# Window size is hyperparameter (window size constant throughout)\n",
    "# apply basis to the window \n",
    "\n",
    "# shared learning\n",
    "# MEL FCC Change in frequency bins \n",
    "\n",
    "### Decomposiion \n",
    "# Use to reconstruct new samples \n",
    "# Try with different numbers of components \n",
    "\n",
    "\n",
    "\n",
    "# Classifying Lead Instrument \n",
    "# De-noising with an autoencoder "
   ]
  },
  {
   "cell_type": "code",
   "execution_count": null,
   "metadata": {},
   "outputs": [],
   "source": []
  }
 ],
 "metadata": {
  "kernelspec": {
   "display_name": "Python 3",
   "language": "python",
   "name": "python3"
  },
  "language_info": {
   "codemirror_mode": {
    "name": "ipython",
    "version": 3
   },
   "file_extension": ".py",
   "mimetype": "text/x-python",
   "name": "python",
   "nbconvert_exporter": "python",
   "pygments_lexer": "ipython3",
   "version": "3.5.4"
  }
 },
 "nbformat": 4,
 "nbformat_minor": 2
}
