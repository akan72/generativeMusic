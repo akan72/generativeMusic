{
 "cells": [
  {
   "cell_type": "code",
   "execution_count": null,
   "metadata": {},
   "outputs": [],
   "source": [
    "#import graphviz\n",
    "import librosa\n",
    "import librosa.display\n",
    "import numpy as np\n",
    "import pickle\n",
    "import random\n",
    "import glob\n",
    "import cv2\n",
    "import re\n",
    "import matplotlib.pyplot as plt\n",
    "\n",
    "import PIL\n",
    "from PIL import Image\n",
    "\n",
    "import tensorflow.keras\n",
    "from tensorflow.python.keras import Sequential\n",
    "from tensorflow.keras.optimizers import RMSprop, Adam, Adagrad\n",
    "from tensorflow.keras.layers import Activation, Dense, Dropout, Flatten\n",
    "from tensorflow.keras.layers import LSTM, GRU\n",
    "from tensorflow.keras.utils import plot_model\n",
    "from sklearn.preprocessing import LabelEncoder\n",
    "\n",
    "# %matplotlib inline"
   ]
  },
  {
   "cell_type": "code",
   "execution_count": null,
   "metadata": {},
   "outputs": [],
   "source": [
    "# Train Test Split\n",
    "frac = 0.80\n",
    "split = int(np.floor(len(mels) * frac))\n",
    "random.shuffle(df)\n",
    "\n",
    "train = df[:split]\n",
    "test = df[split:]\n",
    "\n",
    "_, X_train, y_train = zip(*train)\n",
    "_, X_test, y_test = zip(*test)\n",
    "\n",
    "# Still use 128x128 spectrograms for the RNN \n",
    "\n",
    "# Reshape for CNN input\n",
    "X_train = np.array([x.reshape( (128, 128) ) for x in X_train])\n",
    "X_test = np.array([x.reshape( (128, 128) ) for x in X_test])\n",
    "\n",
    "# One-Hot encoding for classes\n",
    "y_train = np.array(tensorflow.keras.utils.to_categorical(y_train, 4))\n",
    "y_test = np.array(tensorflow.keras.utils.to_categorical(y_test, 4))"
   ]
  }
 ],
 "metadata": {
  "kernelspec": {
   "display_name": "Python 3",
   "language": "python",
   "name": "python3"
  },
  "language_info": {
   "codemirror_mode": {
    "name": "ipython",
    "version": 3
   },
   "file_extension": ".py",
   "mimetype": "text/x-python",
   "name": "python",
   "nbconvert_exporter": "python",
   "pygments_lexer": "ipython3",
   "version": "3.6.6"
  }
 },
 "nbformat": 4,
 "nbformat_minor": 2
}
